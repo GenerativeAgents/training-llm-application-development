{
 "cells": [
  {
   "cell_type": "markdown",
   "metadata": {},
   "source": [
    "# エージェントデザインパターン\n"
   ]
  },
  {
   "cell_type": "code",
   "execution_count": null,
   "metadata": {
    "execution": {
     "iopub.execute_input": "2025-02-16T03:30:37.469013Z",
     "iopub.status.busy": "2025-02-16T03:30:37.468946Z",
     "iopub.status.idle": "2025-02-16T03:30:37.475805Z",
     "shell.execute_reply": "2025-02-16T03:30:37.475385Z"
    }
   },
   "outputs": [],
   "source": [
    "from dotenv import load_dotenv\n",
    "\n",
    "load_dotenv(dotenv_path=\"../.env\", override=True)"
   ]
  },
  {
   "cell_type": "code",
   "execution_count": null,
   "metadata": {
    "execution": {
     "iopub.execute_input": "2025-02-16T03:30:37.476837Z",
     "iopub.status.busy": "2025-02-16T03:30:37.476757Z",
     "iopub.status.idle": "2025-02-16T03:30:37.479166Z",
     "shell.execute_reply": "2025-02-16T03:30:37.478969Z"
    }
   },
   "outputs": [],
   "source": [
    "%cd ../app/agent_design_pattern/"
   ]
  },
  {
   "cell_type": "code",
   "execution_count": null,
   "metadata": {
    "execution": {
     "iopub.execute_input": "2025-02-16T03:30:37.480461Z",
     "iopub.status.busy": "2025-02-16T03:30:37.480372Z",
     "iopub.status.idle": "2025-02-16T03:30:37.705308Z",
     "shell.execute_reply": "2025-02-16T03:30:37.704732Z"
    }
   },
   "outputs": [],
   "source": [
    "!pwd"
   ]
  },
  {
   "cell_type": "markdown",
   "metadata": {},
   "source": [
    "## パッシブゴールクリエイター\n"
   ]
  },
  {
   "cell_type": "code",
   "execution_count": null,
   "metadata": {
    "execution": {
     "iopub.execute_input": "2025-02-16T03:30:37.708337Z",
     "iopub.status.busy": "2025-02-16T03:30:37.708022Z",
     "iopub.status.idle": "2025-02-16T03:30:43.909590Z",
     "shell.execute_reply": "2025-02-16T03:30:43.909263Z"
    }
   },
   "outputs": [],
   "source": [
    "!python -m passive_goal_creator.main --task \"カレーライスの作り方\""
   ]
  },
  {
   "cell_type": "markdown",
   "metadata": {},
   "source": [
    "## プロンプト/レスポンス最適化\n"
   ]
  },
  {
   "cell_type": "code",
   "execution_count": null,
   "metadata": {
    "execution": {
     "iopub.execute_input": "2025-02-16T03:30:43.911264Z",
     "iopub.status.busy": "2025-02-16T03:30:43.911183Z",
     "iopub.status.idle": "2025-02-16T03:30:59.967635Z",
     "shell.execute_reply": "2025-02-16T03:30:59.967266Z"
    }
   },
   "outputs": [],
   "source": [
    "!python -m prompt_optimizer.main --task \"カレーライスの作り方\""
   ]
  },
  {
   "cell_type": "code",
   "execution_count": null,
   "metadata": {
    "execution": {
     "iopub.execute_input": "2025-02-16T03:30:59.969079Z",
     "iopub.status.busy": "2025-02-16T03:30:59.968990Z",
     "iopub.status.idle": "2025-02-16T03:31:25.624026Z",
     "shell.execute_reply": "2025-02-16T03:31:25.623644Z"
    }
   },
   "outputs": [],
   "source": [
    "!python -m response_optimizer.main --task \"カレーライスの作り方\""
   ]
  },
  {
   "cell_type": "markdown",
   "metadata": {},
   "source": [
    "## シングルパスプランジェネレーター\n"
   ]
  },
  {
   "cell_type": "code",
   "execution_count": null,
   "metadata": {
    "execution": {
     "iopub.execute_input": "2025-02-16T03:31:25.626276Z",
     "iopub.status.busy": "2025-02-16T03:31:25.626101Z",
     "iopub.status.idle": "2025-02-16T03:33:18.170592Z",
     "shell.execute_reply": "2025-02-16T03:33:18.170071Z"
    }
   },
   "outputs": [],
   "source": [
    "!python -m single_path_plan_generation.main --task \"カレーライスの作り方\""
   ]
  },
  {
   "cell_type": "markdown",
   "metadata": {},
   "source": [
    "## セルフリフレクション\n"
   ]
  },
  {
   "cell_type": "code",
   "execution_count": null,
   "metadata": {
    "execution": {
     "iopub.execute_input": "2025-02-16T03:33:18.172597Z",
     "iopub.status.busy": "2025-02-16T03:33:18.172448Z",
     "iopub.status.idle": "2025-02-16T03:35:51.793288Z",
     "shell.execute_reply": "2025-02-16T03:35:51.792672Z"
    }
   },
   "outputs": [],
   "source": [
    "!python -m self_reflection.main --task \"カレーライスの作り方\"\n"
   ]
  },
  {
   "cell_type": "markdown",
   "metadata": {},
   "source": [
    "## 役割ベースの協調\n"
   ]
  },
  {
   "cell_type": "code",
   "execution_count": null,
   "metadata": {
    "execution": {
     "iopub.execute_input": "2025-02-16T03:35:51.796165Z",
     "iopub.status.busy": "2025-02-16T03:35:51.795865Z",
     "iopub.status.idle": "2025-02-16T03:37:18.524522Z",
     "shell.execute_reply": "2025-02-16T03:37:18.523819Z"
    }
   },
   "outputs": [],
   "source": [
    "!python -m role_based_cooperation.main --task \"カレーライスの作り方\"\n"
   ]
  },
  {
   "cell_type": "code",
   "execution_count": null,
   "metadata": {},
   "outputs": [],
   "source": []
  }
 ],
 "metadata": {
  "kernelspec": {
   "display_name": ".venv",
   "language": "python",
   "name": "python3"
  },
  "language_info": {
   "codemirror_mode": {
    "name": "ipython",
    "version": 3
   },
   "file_extension": ".py",
   "mimetype": "text/x-python",
   "name": "python",
   "nbconvert_exporter": "python",
   "pygments_lexer": "ipython3",
   "version": "3.10.12"
  }
 },
 "nbformat": 4,
 "nbformat_minor": 2
}
