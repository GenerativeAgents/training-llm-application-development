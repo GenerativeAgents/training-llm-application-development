{
 "cells": [
  {
   "cell_type": "markdown",
   "metadata": {},
   "source": [
    "# LangChain 入門\n"
   ]
  },
  {
   "cell_type": "code",
   "execution_count": null,
   "metadata": {
    "execution": {
     "iopub.execute_input": "2025-03-04T12:05:40.231766Z",
     "iopub.status.busy": "2025-03-04T12:05:40.231335Z",
     "iopub.status.idle": "2025-03-04T12:05:40.253963Z",
     "shell.execute_reply": "2025-03-04T12:05:40.253473Z"
    }
   },
   "outputs": [],
   "source": [
    "from dotenv import load_dotenv\n",
    "\n",
    "load_dotenv(dotenv_path=\"../.env\", override=True)"
   ]
  },
  {
   "cell_type": "markdown",
   "metadata": {},
   "source": [
    "## Chat model\n"
   ]
  },
  {
   "cell_type": "markdown",
   "metadata": {},
   "source": [
    "### ChatOpenAI の基本的な使い方\n"
   ]
  },
  {
   "cell_type": "code",
   "execution_count": null,
   "metadata": {
    "execution": {
     "iopub.execute_input": "2025-03-04T12:05:40.255572Z",
     "iopub.status.busy": "2025-03-04T12:05:40.255433Z",
     "iopub.status.idle": "2025-03-04T12:05:42.131083Z",
     "shell.execute_reply": "2025-03-04T12:05:42.130549Z"
    }
   },
   "outputs": [],
   "source": [
    "from langchain_core.messages import AIMessage, HumanMessage, SystemMessage\n",
    "from langchain_openai import ChatOpenAI\n",
    "\n",
    "model = ChatOpenAI(model=\"gpt-4o-mini\", temperature=0)\n",
    "\n",
    "messages = [\n",
    "    SystemMessage(\"You are a helpful assistant.\"),\n",
    "    HumanMessage(\"こんにちは！私はジョンと言います\"),\n",
    "    AIMessage(\"こんにちは、ジョンさん！どのようにお手伝いできますか？\"),\n",
    "    HumanMessage(\"私の名前がわかりますか？\"),\n",
    "]\n",
    "\n",
    "ai_message = model.invoke(messages)\n",
    "print(ai_message.content)"
   ]
  },
  {
   "cell_type": "markdown",
   "metadata": {},
   "source": [
    "### ストリーミング\n"
   ]
  },
  {
   "cell_type": "code",
   "execution_count": null,
   "metadata": {
    "execution": {
     "iopub.execute_input": "2025-03-04T12:05:42.132904Z",
     "iopub.status.busy": "2025-03-04T12:05:42.132766Z",
     "iopub.status.idle": "2025-03-04T12:05:42.958388Z",
     "shell.execute_reply": "2025-03-04T12:05:42.957648Z"
    }
   },
   "outputs": [],
   "source": [
    "from langchain_core.messages import SystemMessage, HumanMessage\n",
    "from langchain_openai import ChatOpenAI\n",
    "\n",
    "model = ChatOpenAI(model=\"gpt-4o-mini\", temperature=0)\n",
    "\n",
    "messages = [\n",
    "    SystemMessage(\"You are a helpful assistant.\"),\n",
    "    HumanMessage(\"こんにちは！\"),\n",
    "]\n",
    "\n",
    "for chunk in model.stream(messages):\n",
    "    print(chunk.content, end=\"\", flush=True)"
   ]
  },
  {
   "cell_type": "markdown",
   "metadata": {},
   "source": [
    "## Prompt template\n"
   ]
  },
  {
   "cell_type": "markdown",
   "metadata": {},
   "source": [
    "### ChatPromptTemplate\n"
   ]
  },
  {
   "cell_type": "code",
   "execution_count": null,
   "metadata": {
    "execution": {
     "iopub.execute_input": "2025-03-04T12:05:42.967693Z",
     "iopub.status.busy": "2025-03-04T12:05:42.967478Z",
     "iopub.status.idle": "2025-03-04T12:05:43.144957Z",
     "shell.execute_reply": "2025-03-04T12:05:43.144544Z"
    }
   },
   "outputs": [],
   "source": [
    "from langchain_core.prompts import ChatPromptTemplate\n",
    "\n",
    "prompt = ChatPromptTemplate.from_messages(\n",
    "    [\n",
    "        (\"system\", \"ユーザーが入力した料理のレシピを考えてください。\"),\n",
    "        (\"human\", \"{dish}\"),\n",
    "    ]\n",
    ")\n",
    "\n",
    "prompt_value = prompt.invoke({\"dish\": \"カレー\"})\n",
    "for message in prompt_value.messages:\n",
    "    print(f\"{message.type}: {message.content}\")"
   ]
  },
  {
   "cell_type": "markdown",
   "metadata": {},
   "source": [
    "### MessagesPlaceholder\n"
   ]
  },
  {
   "cell_type": "code",
   "execution_count": null,
   "metadata": {
    "execution": {
     "iopub.execute_input": "2025-03-04T12:05:43.146394Z",
     "iopub.status.busy": "2025-03-04T12:05:43.146160Z",
     "iopub.status.idle": "2025-03-04T12:05:43.150895Z",
     "shell.execute_reply": "2025-03-04T12:05:43.150584Z"
    }
   },
   "outputs": [],
   "source": [
    "from langchain_core.messages import AIMessage, HumanMessage\n",
    "from langchain_core.prompts import ChatPromptTemplate\n",
    "\n",
    "prompt = ChatPromptTemplate.from_messages(\n",
    "    [\n",
    "        (\"system\", \"You are a helpful assistant.\"),\n",
    "        (\"placeholder\", \"{chat_history}\"),\n",
    "        (\"human\", \"{input}\"),\n",
    "    ]\n",
    ")\n",
    "\n",
    "prompt_value = prompt.invoke(\n",
    "    {\n",
    "        \"chat_history\": [\n",
    "            HumanMessage(content=\"こんにちは！私はジョンと言います！\"),\n",
    "            AIMessage(\"こんにちは、ジョンさん！どのようにお手伝いできますか？\"),\n",
    "        ],\n",
    "        \"input\": \"私の名前が分かりますか？\",\n",
    "    }\n",
    ")\n",
    "for message in prompt_value.messages:\n",
    "    print(f\"{message.type}: {message.content}\")\n"
   ]
  },
  {
   "cell_type": "markdown",
   "metadata": {},
   "source": [
    "## Output parser\n"
   ]
  },
  {
   "cell_type": "markdown",
   "metadata": {},
   "source": [
    "### PydanticOutputParser を使った Python オブジェクトへの変換\n"
   ]
  },
  {
   "cell_type": "code",
   "execution_count": null,
   "metadata": {
    "execution": {
     "iopub.execute_input": "2025-03-04T12:05:43.152055Z",
     "iopub.status.busy": "2025-03-04T12:05:43.151953Z",
     "iopub.status.idle": "2025-03-04T12:05:43.154975Z",
     "shell.execute_reply": "2025-03-04T12:05:43.154616Z"
    }
   },
   "outputs": [],
   "source": [
    "from langchain_core.prompts import ChatPromptTemplate\n",
    "\n",
    "_system_prompt = \"\"\"\\\n",
    "ユーザーが入力した料理のレシピを考えてください。\n",
    "\n",
    "出力は以下のJSON形式にしてください。\n",
    "{{\n",
    "  \"ingredients\": [\"材料1\", \"材料2\"]\n",
    "  \"steps\": [\"ステップ1\", \"ステップ2\"]\n",
    "}}\n",
    "\"\"\"\n",
    "\n",
    "prompt = ChatPromptTemplate.from_messages(\n",
    "    [\n",
    "        (\"system\", _system_prompt),\n",
    "        (\"human\", \"{dish}\"),\n",
    "    ]\n",
    ")"
   ]
  },
  {
   "cell_type": "code",
   "execution_count": null,
   "metadata": {
    "execution": {
     "iopub.execute_input": "2025-03-04T12:05:43.156012Z",
     "iopub.status.busy": "2025-03-04T12:05:43.155887Z",
     "iopub.status.idle": "2025-03-04T12:05:45.412617Z",
     "shell.execute_reply": "2025-03-04T12:05:45.411380Z"
    }
   },
   "outputs": [],
   "source": [
    "from langchain_openai import ChatOpenAI\n",
    "\n",
    "model = ChatOpenAI(model=\"gpt-4o-mini\", temperature=0)\n",
    "\n",
    "prompt_value = prompt.invoke({\"dish\": \"カレー\"})\n",
    "ai_message = model.invoke(prompt_value)\n",
    "print(ai_message.content)"
   ]
  },
  {
   "cell_type": "code",
   "execution_count": null,
   "metadata": {
    "execution": {
     "iopub.execute_input": "2025-03-04T12:05:45.415875Z",
     "iopub.status.busy": "2025-03-04T12:05:45.415603Z",
     "iopub.status.idle": "2025-03-04T12:05:45.424049Z",
     "shell.execute_reply": "2025-03-04T12:05:45.423408Z"
    }
   },
   "outputs": [],
   "source": [
    "from pydantic import BaseModel, Field\n",
    "\n",
    "\n",
    "class Recipe(BaseModel):\n",
    "    ingredients: list[str] = Field(description=\"ingredients of the dish\")\n",
    "    steps: list[str] = Field(description=\"steps to make the dish\")"
   ]
  },
  {
   "cell_type": "code",
   "execution_count": null,
   "metadata": {
    "execution": {
     "iopub.execute_input": "2025-03-04T12:05:45.426241Z",
     "iopub.status.busy": "2025-03-04T12:05:45.426042Z",
     "iopub.status.idle": "2025-03-04T12:05:45.430459Z",
     "shell.execute_reply": "2025-03-04T12:05:45.429557Z"
    }
   },
   "outputs": [],
   "source": [
    "from langchain_core.output_parsers import PydanticOutputParser\n",
    "\n",
    "output_parser = PydanticOutputParser(pydantic_object=Recipe)"
   ]
  },
  {
   "cell_type": "code",
   "execution_count": null,
   "metadata": {
    "execution": {
     "iopub.execute_input": "2025-03-04T12:05:45.432488Z",
     "iopub.status.busy": "2025-03-04T12:05:45.432227Z",
     "iopub.status.idle": "2025-03-04T12:05:45.438138Z",
     "shell.execute_reply": "2025-03-04T12:05:45.437551Z"
    }
   },
   "outputs": [],
   "source": [
    "recipe = output_parser.invoke(ai_message)\n",
    "print(type(recipe))\n",
    "print(recipe)"
   ]
  },
  {
   "cell_type": "markdown",
   "metadata": {},
   "source": [
    "### StrOutputParser\n"
   ]
  },
  {
   "cell_type": "code",
   "execution_count": null,
   "metadata": {
    "execution": {
     "iopub.execute_input": "2025-03-04T12:05:45.440210Z",
     "iopub.status.busy": "2025-03-04T12:05:45.440049Z",
     "iopub.status.idle": "2025-03-04T12:05:45.444921Z",
     "shell.execute_reply": "2025-03-04T12:05:45.444472Z"
    }
   },
   "outputs": [],
   "source": [
    "from langchain_core.messages import AIMessage\n",
    "from langchain_core.output_parsers import StrOutputParser\n",
    "\n",
    "output_parser = StrOutputParser()\n",
    "\n",
    "ai_message = AIMessage(content=\"こんにちは。私はAIアシスタントです。\")\n",
    "output = output_parser.invoke(ai_message)\n",
    "print(type(output))\n",
    "print(output)"
   ]
  },
  {
   "cell_type": "markdown",
   "metadata": {},
   "source": [
    "## LangChain Expression Language（LCEL）の概要\n"
   ]
  },
  {
   "cell_type": "markdown",
   "metadata": {},
   "source": [
    "### prompt と model の連鎖\n"
   ]
  },
  {
   "cell_type": "code",
   "execution_count": null,
   "metadata": {
    "execution": {
     "iopub.execute_input": "2025-03-04T12:05:45.446570Z",
     "iopub.status.busy": "2025-03-04T12:05:45.446429Z",
     "iopub.status.idle": "2025-03-04T12:05:45.463208Z",
     "shell.execute_reply": "2025-03-04T12:05:45.462637Z"
    }
   },
   "outputs": [],
   "source": [
    "from langchain_core.prompts import ChatPromptTemplate\n",
    "from langchain_openai import ChatOpenAI\n",
    "\n",
    "prompt = ChatPromptTemplate.from_messages(\n",
    "    [\n",
    "        (\"system\", \"ユーザーが入力した料理のレシピを考えてください。\"),\n",
    "        (\"human\", \"{dish}\"),\n",
    "    ]\n",
    ")\n",
    "\n",
    "model = ChatOpenAI(model_name=\"gpt-4o-mini\", temperature=0)"
   ]
  },
  {
   "cell_type": "code",
   "execution_count": null,
   "metadata": {
    "execution": {
     "iopub.execute_input": "2025-03-04T12:05:45.465852Z",
     "iopub.status.busy": "2025-03-04T12:05:45.465558Z",
     "iopub.status.idle": "2025-03-04T12:05:45.468967Z",
     "shell.execute_reply": "2025-03-04T12:05:45.468493Z"
    }
   },
   "outputs": [],
   "source": [
    "chain = prompt | model"
   ]
  },
  {
   "cell_type": "code",
   "execution_count": null,
   "metadata": {
    "execution": {
     "iopub.execute_input": "2025-03-04T12:05:45.470325Z",
     "iopub.status.busy": "2025-03-04T12:05:45.470180Z",
     "iopub.status.idle": "2025-03-04T12:05:53.119058Z",
     "shell.execute_reply": "2025-03-04T12:05:53.118576Z"
    }
   },
   "outputs": [],
   "source": [
    "ai_message = chain.invoke({\"dish\": \"カレー\"})\n",
    "print(ai_message.content)"
   ]
  },
  {
   "cell_type": "markdown",
   "metadata": {},
   "source": [
    "### StrOutputParser を連鎖に追加\n"
   ]
  },
  {
   "cell_type": "code",
   "execution_count": null,
   "metadata": {
    "execution": {
     "iopub.execute_input": "2025-03-04T12:05:53.120959Z",
     "iopub.status.busy": "2025-03-04T12:05:53.120810Z",
     "iopub.status.idle": "2025-03-04T12:06:00.042150Z",
     "shell.execute_reply": "2025-03-04T12:06:00.041277Z"
    }
   },
   "outputs": [],
   "source": [
    "from langchain_core.output_parsers import StrOutputParser\n",
    "\n",
    "chain = prompt | model | StrOutputParser()\n",
    "output = chain.invoke({\"dish\": \"カレー\"})\n",
    "print(output)"
   ]
  },
  {
   "cell_type": "markdown",
   "metadata": {},
   "source": [
    "### PydanticOutputParser を使う連鎖\n"
   ]
  },
  {
   "cell_type": "code",
   "execution_count": null,
   "metadata": {
    "execution": {
     "iopub.execute_input": "2025-03-04T12:06:00.048689Z",
     "iopub.status.busy": "2025-03-04T12:06:00.048139Z",
     "iopub.status.idle": "2025-03-04T12:06:00.069949Z",
     "shell.execute_reply": "2025-03-04T12:06:00.069487Z"
    }
   },
   "outputs": [],
   "source": [
    "from langchain_core.prompts import ChatPromptTemplate\n",
    "from langchain_openai import ChatOpenAI\n",
    "\n",
    "_system_prompt = \"\"\"\\\n",
    "ユーザーが入力した料理のレシピを考えてください。\n",
    "\n",
    "出力は以下のJSON形式にしてください。\n",
    "{{\n",
    "  \"ingredients\": [\"材料1\", \"材料2\"]\n",
    "  \"steps\": [\"ステップ1\", \"ステップ2\"]\n",
    "}}\n",
    "\"\"\"\n",
    "\n",
    "prompt = ChatPromptTemplate.from_messages(\n",
    "    [\n",
    "        (\"system\", _system_prompt),\n",
    "        (\"human\", \"{dish}\"),\n",
    "    ]\n",
    ")\n",
    "\n",
    "model = ChatOpenAI(model=\"gpt-4o-mini\", temperature=0).bind(\n",
    "    response_format={\"type\": \"json_object\"}\n",
    ")"
   ]
  },
  {
   "cell_type": "code",
   "execution_count": null,
   "metadata": {
    "execution": {
     "iopub.execute_input": "2025-03-04T12:06:00.071802Z",
     "iopub.status.busy": "2025-03-04T12:06:00.071677Z",
     "iopub.status.idle": "2025-03-04T12:06:00.083799Z",
     "shell.execute_reply": "2025-03-04T12:06:00.083235Z"
    }
   },
   "outputs": [],
   "source": [
    "from langchain_core.output_parsers import PydanticOutputParser\n",
    "from pydantic import BaseModel, Field\n",
    "\n",
    "\n",
    "class Recipe(BaseModel):\n",
    "    ingredients: list[str] = Field(description=\"ingredients of the dish\")\n",
    "    steps: list[str] = Field(description=\"steps to make the dish\")\n",
    "\n",
    "\n",
    "output_parser = PydanticOutputParser(pydantic_object=Recipe)"
   ]
  },
  {
   "cell_type": "code",
   "execution_count": null,
   "metadata": {
    "execution": {
     "iopub.execute_input": "2025-03-04T12:06:00.085827Z",
     "iopub.status.busy": "2025-03-04T12:06:00.085672Z",
     "iopub.status.idle": "2025-03-04T12:06:00.092944Z",
     "shell.execute_reply": "2025-03-04T12:06:00.088336Z"
    }
   },
   "outputs": [],
   "source": [
    "chain = prompt | model | output_parser"
   ]
  },
  {
   "cell_type": "code",
   "execution_count": null,
   "metadata": {
    "execution": {
     "iopub.execute_input": "2025-03-04T12:06:00.094895Z",
     "iopub.status.busy": "2025-03-04T12:06:00.094756Z",
     "iopub.status.idle": "2025-03-04T12:06:02.904376Z",
     "shell.execute_reply": "2025-03-04T12:06:02.903831Z"
    }
   },
   "outputs": [],
   "source": [
    "recipe = chain.invoke({\"dish\": \"カレー\"})\n",
    "print(type(recipe))\n",
    "print(recipe)"
   ]
  },
  {
   "cell_type": "markdown",
   "metadata": {},
   "source": [
    "### （補足）with_structured_output\n"
   ]
  },
  {
   "cell_type": "code",
   "execution_count": null,
   "metadata": {
    "execution": {
     "iopub.execute_input": "2025-03-04T12:06:02.905822Z",
     "iopub.status.busy": "2025-03-04T12:06:02.905696Z",
     "iopub.status.idle": "2025-03-04T12:06:08.334427Z",
     "shell.execute_reply": "2025-03-04T12:06:08.329761Z"
    }
   },
   "outputs": [],
   "source": [
    "from langchain_core.prompts import ChatPromptTemplate\n",
    "from pydantic import BaseModel, Field\n",
    "from langchain_openai import ChatOpenAI\n",
    "\n",
    "\n",
    "class Recipe(BaseModel):\n",
    "    ingredients: list[str] = Field(description=\"ingredients of the dish\")\n",
    "    steps: list[str] = Field(description=\"steps to make the dish\")\n",
    "\n",
    "\n",
    "prompt = ChatPromptTemplate.from_messages(\n",
    "    [\n",
    "        (\"system\", \"ユーザーが入力した料理のレシピを考えてください。\"),\n",
    "        (\"human\", \"{dish}\"),\n",
    "    ]\n",
    ")\n",
    "\n",
    "model = ChatOpenAI(model=\"gpt-4o-mini\")\n",
    "\n",
    "chain = prompt | model.with_structured_output(Recipe)\n",
    "\n",
    "recipe = chain.invoke({\"dish\": \"カレー\"})\n",
    "print(type(recipe))\n",
    "print(recipe)"
   ]
  },
  {
   "cell_type": "code",
   "execution_count": null,
   "metadata": {},
   "outputs": [],
   "source": []
  },
  {
   "cell_type": "markdown",
   "metadata": {},
   "source": [
    "# RAG (検索拡張生成) の基礎\n"
   ]
  },
  {
   "cell_type": "markdown",
   "metadata": {},
   "source": [
    "## LangChain での RAG の実装をステップバイステップで動かそう\n"
   ]
  },
  {
   "cell_type": "markdown",
   "metadata": {},
   "source": [
    "### Document loader\n"
   ]
  },
  {
   "cell_type": "code",
   "execution_count": null,
   "metadata": {
    "execution": {
     "iopub.execute_input": "2025-03-04T12:06:08.360254Z",
     "iopub.status.busy": "2025-03-04T12:06:08.360058Z",
     "iopub.status.idle": "2025-03-04T12:06:08.863719Z",
     "shell.execute_reply": "2025-03-04T12:06:08.863362Z"
    }
   },
   "outputs": [],
   "source": [
    "from langchain_community.document_loaders import DirectoryLoader, TextLoader\n",
    "\n",
    "loader = DirectoryLoader(\n",
    "    path=\"../tmp/langchain\",\n",
    "    glob=\"**/*.mdx\",\n",
    "    loader_cls=TextLoader,\n",
    ")\n",
    "\n",
    "raw_docs = loader.load()\n",
    "print(len(raw_docs))"
   ]
  },
  {
   "cell_type": "markdown",
   "metadata": {},
   "source": [
    "### Document transformer\n"
   ]
  },
  {
   "cell_type": "code",
   "execution_count": null,
   "metadata": {
    "execution": {
     "iopub.execute_input": "2025-03-04T12:06:08.865062Z",
     "iopub.status.busy": "2025-03-04T12:06:08.864948Z",
     "iopub.status.idle": "2025-03-04T12:06:08.909769Z",
     "shell.execute_reply": "2025-03-04T12:06:08.909504Z"
    }
   },
   "outputs": [],
   "source": [
    "from langchain_text_splitters import CharacterTextSplitter\n",
    "\n",
    "text_splitter = CharacterTextSplitter(chunk_size=1000, chunk_overlap=0)\n",
    "\n",
    "docs = text_splitter.split_documents(raw_docs)\n",
    "print(len(docs))"
   ]
  },
  {
   "cell_type": "markdown",
   "metadata": {},
   "source": [
    "### Embedding model\n"
   ]
  },
  {
   "cell_type": "code",
   "execution_count": null,
   "metadata": {
    "execution": {
     "iopub.execute_input": "2025-03-04T12:06:08.910994Z",
     "iopub.status.busy": "2025-03-04T12:06:08.910877Z",
     "iopub.status.idle": "2025-03-04T12:06:08.922890Z",
     "shell.execute_reply": "2025-03-04T12:06:08.922485Z"
    }
   },
   "outputs": [],
   "source": [
    "from langchain_openai import OpenAIEmbeddings\n",
    "\n",
    "embeddings = OpenAIEmbeddings(model=\"text-embedding-3-small\")"
   ]
  },
  {
   "cell_type": "code",
   "execution_count": null,
   "metadata": {
    "execution": {
     "iopub.execute_input": "2025-03-04T12:06:08.924092Z",
     "iopub.status.busy": "2025-03-04T12:06:08.923983Z",
     "iopub.status.idle": "2025-03-04T12:06:09.663993Z",
     "shell.execute_reply": "2025-03-04T12:06:09.663479Z"
    }
   },
   "outputs": [],
   "source": [
    "query = \"AWSのS3からデータを読み込むためのDocument loaderはありますか？\"\n",
    "\n",
    "vector = embeddings.embed_query(query)\n",
    "print(len(vector))\n",
    "print(vector)"
   ]
  },
  {
   "cell_type": "markdown",
   "metadata": {},
   "source": [
    "### Vector store\n"
   ]
  },
  {
   "cell_type": "code",
   "execution_count": null,
   "metadata": {
    "execution": {
     "iopub.execute_input": "2025-03-04T12:06:09.665905Z",
     "iopub.status.busy": "2025-03-04T12:06:09.665748Z",
     "iopub.status.idle": "2025-03-04T12:06:20.532208Z",
     "shell.execute_reply": "2025-03-04T12:06:20.530097Z"
    }
   },
   "outputs": [],
   "source": [
    "# 注意:\n",
    "# このセルの処理は、大勢が同時に実行するとレートリミットのエラーになる可能性があります\n",
    "# もしもエラーになった場合は、少し時間をおいてもう一度実行してください\n",
    "\n",
    "from langchain_chroma import Chroma\n",
    "\n",
    "db = Chroma.from_documents(docs, embeddings)"
   ]
  },
  {
   "cell_type": "markdown",
   "metadata": {},
   "source": [
    "### Retriever\n"
   ]
  },
  {
   "cell_type": "code",
   "execution_count": null,
   "metadata": {
    "execution": {
     "iopub.execute_input": "2025-03-04T12:06:20.539733Z",
     "iopub.status.busy": "2025-03-04T12:06:20.539546Z",
     "iopub.status.idle": "2025-03-04T12:06:20.543979Z",
     "shell.execute_reply": "2025-03-04T12:06:20.543555Z"
    }
   },
   "outputs": [],
   "source": [
    "retriever = db.as_retriever()"
   ]
  },
  {
   "cell_type": "code",
   "execution_count": null,
   "metadata": {
    "execution": {
     "iopub.execute_input": "2025-03-04T12:06:20.545072Z",
     "iopub.status.busy": "2025-03-04T12:06:20.544965Z",
     "iopub.status.idle": "2025-03-04T12:06:20.812136Z",
     "shell.execute_reply": "2025-03-04T12:06:20.811266Z"
    }
   },
   "outputs": [],
   "source": [
    "query = \"AWSのS3からデータを読み込むためのDocument loaderはありますか？\"\n",
    "\n",
    "context_docs = retriever.invoke(query)\n",
    "print(f\"len = {len(context_docs)}\")\n",
    "\n",
    "first_doc = context_docs[0]\n",
    "print(f\"metadata = {first_doc.metadata}\")\n",
    "print(first_doc.page_content)"
   ]
  },
  {
   "cell_type": "markdown",
   "metadata": {},
   "source": [
    "### LCEL を使った RAG の Chain の実装\n"
   ]
  },
  {
   "cell_type": "code",
   "execution_count": null,
   "metadata": {
    "execution": {
     "iopub.execute_input": "2025-03-04T12:06:20.819781Z",
     "iopub.status.busy": "2025-03-04T12:06:20.819465Z",
     "iopub.status.idle": "2025-03-04T12:06:20.840209Z",
     "shell.execute_reply": "2025-03-04T12:06:20.839637Z"
    }
   },
   "outputs": [],
   "source": [
    "from langchain_core.prompts import ChatPromptTemplate\n",
    "from langchain_openai import ChatOpenAI\n",
    "\n",
    "prompt = ChatPromptTemplate.from_template('''\\\n",
    "以下の文脈だけを踏まえて質問に回答してください。\n",
    "\n",
    "文脈: \"\"\"\n",
    "{context}\n",
    "\"\"\"\n",
    "\n",
    "質問: {question}\n",
    "''')\n",
    "\n",
    "model = ChatOpenAI(model_name=\"gpt-4o-mini\", temperature=0)"
   ]
  },
  {
   "cell_type": "code",
   "execution_count": null,
   "metadata": {
    "execution": {
     "iopub.execute_input": "2025-03-04T12:06:20.842003Z",
     "iopub.status.busy": "2025-03-04T12:06:20.841788Z",
     "iopub.status.idle": "2025-03-04T12:06:23.769974Z",
     "shell.execute_reply": "2025-03-04T12:06:23.769133Z"
    }
   },
   "outputs": [],
   "source": [
    "from langchain_core.output_parsers import StrOutputParser\n",
    "from langchain_core.runnables import RunnablePassthrough\n",
    "\n",
    "chain = (\n",
    "    {\"context\": retriever, \"question\": RunnablePassthrough()}\n",
    "    | prompt\n",
    "    | model\n",
    "    | StrOutputParser()\n",
    ")\n",
    "\n",
    "output = chain.invoke(query)\n",
    "print(output)"
   ]
  },
  {
   "cell_type": "code",
   "execution_count": null,
   "metadata": {},
   "outputs": [],
   "source": []
  }
 ],
 "metadata": {
  "kernelspec": {
   "display_name": ".venv",
   "language": "python",
   "name": "python3"
  },
  "language_info": {
   "codemirror_mode": {
    "name": "ipython",
    "version": 3
   },
   "file_extension": ".py",
   "mimetype": "text/x-python",
   "name": "python",
   "nbconvert_exporter": "python",
   "pygments_lexer": "ipython3",
   "version": "3.10.12"
  }
 },
 "nbformat": 4,
 "nbformat_minor": 2
}
