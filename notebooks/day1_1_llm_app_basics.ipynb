{
 "cells": [
  {
   "cell_type": "markdown",
   "metadata": {},
   "source": [
    "# OpenAI のチャット API の基礎\n"
   ]
  },
  {
   "cell_type": "code",
   "execution_count": null,
   "metadata": {
    "execution": {
     "iopub.execute_input": "2025-03-04T12:05:02.764090Z",
     "iopub.status.busy": "2025-03-04T12:05:02.763788Z",
     "iopub.status.idle": "2025-03-04T12:05:03.019516Z",
     "shell.execute_reply": "2025-03-04T12:05:03.018877Z"
    }
   },
   "outputs": [],
   "source": [
    "!python --version"
   ]
  },
  {
   "cell_type": "code",
   "execution_count": null,
   "metadata": {
    "execution": {
     "iopub.execute_input": "2025-03-04T12:05:03.021417Z",
     "iopub.status.busy": "2025-03-04T12:05:03.021213Z",
     "iopub.status.idle": "2025-03-04T12:05:03.025328Z",
     "shell.execute_reply": "2025-03-04T12:05:03.024881Z"
    }
   },
   "outputs": [],
   "source": [
    "print(\"hello\")"
   ]
  },
  {
   "cell_type": "markdown",
   "metadata": {},
   "source": [
    "## Chat Completions API を試してみよう！\n"
   ]
  },
  {
   "cell_type": "markdown",
   "metadata": {},
   "source": [
    "### OpenAI API キー（環境変数）の設定\n"
   ]
  },
  {
   "cell_type": "code",
   "execution_count": null,
   "metadata": {
    "execution": {
     "iopub.execute_input": "2025-03-04T12:05:03.026780Z",
     "iopub.status.busy": "2025-03-04T12:05:03.026641Z",
     "iopub.status.idle": "2025-03-04T12:05:03.039070Z",
     "shell.execute_reply": "2025-03-04T12:05:03.038700Z"
    }
   },
   "outputs": [],
   "source": [
    "# このコードを実行する前に...\n",
    "# `.env.template` ファイルをコピーして `.env` ファイルを作成してください。\n",
    "# `.env` ファイルには OpenAI API キーを記載してください。\n",
    "\n",
    "from dotenv import load_dotenv\n",
    "\n",
    "load_dotenv(dotenv_path=\"../.env\", override=True)"
   ]
  },
  {
   "cell_type": "code",
   "execution_count": null,
   "metadata": {
    "execution": {
     "iopub.execute_input": "2025-03-04T12:05:03.040257Z",
     "iopub.status.busy": "2025-03-04T12:05:03.040134Z",
     "iopub.status.idle": "2025-03-04T12:05:03.043073Z",
     "shell.execute_reply": "2025-03-04T12:05:03.042682Z"
    }
   },
   "outputs": [],
   "source": [
    "import os\n",
    "\n",
    "print(os.environ[\"OPENAI_API_KEY\"][:3])\n",
    "# \"sk-\" と表示されれば、OpenAIのAPIキーを環境変数に設定できています"
   ]
  },
  {
   "cell_type": "markdown",
   "metadata": {},
   "source": [
    "### Chat Completions API の呼び出し\n"
   ]
  },
  {
   "cell_type": "code",
   "execution_count": null,
   "metadata": {
    "execution": {
     "iopub.execute_input": "2025-03-04T12:05:03.044279Z",
     "iopub.status.busy": "2025-03-04T12:05:03.044164Z",
     "iopub.status.idle": "2025-03-04T12:05:04.650614Z",
     "shell.execute_reply": "2025-03-04T12:05:04.649911Z"
    }
   },
   "outputs": [],
   "source": [
    "from openai import OpenAI\n",
    "\n",
    "client = OpenAI()\n",
    "\n",
    "response = client.chat.completions.create(\n",
    "    model=\"gpt-4.1-nano\",\n",
    "    messages=[\n",
    "        {\"role\": \"developer\", \"content\": \"You are a helpful assistant.\"},\n",
    "        {\"role\": \"user\", \"content\": \"こんにちは！私はジョンと言います！\"},\n",
    "    ],\n",
    ")\n",
    "print(response.to_json(indent=2))"
   ]
  },
  {
   "cell_type": "markdown",
   "metadata": {},
   "source": [
    "### 会話履歴を踏まえた応答を得る\n"
   ]
  },
  {
   "cell_type": "code",
   "execution_count": null,
   "metadata": {
    "execution": {
     "iopub.execute_input": "2025-03-04T12:05:04.653071Z",
     "iopub.status.busy": "2025-03-04T12:05:04.652878Z",
     "iopub.status.idle": "2025-03-04T12:05:05.565871Z",
     "shell.execute_reply": "2025-03-04T12:05:05.564811Z"
    }
   },
   "outputs": [],
   "source": [
    "from openai import OpenAI\n",
    "\n",
    "client = OpenAI()\n",
    "\n",
    "response = client.chat.completions.create(\n",
    "    model=\"gpt-4.1-nano\",\n",
    "    messages=[\n",
    "        {\"role\": \"developer\", \"content\": \"You are a helpful assistant.\"},\n",
    "        {\"role\": \"user\", \"content\": \"こんにちは！私はジョンと言います！\"},\n",
    "        {\n",
    "            \"role\": \"assistant\",\n",
    "            \"content\": \"こんにちは、ジョンさん！お会いできて嬉しいです。今日はどんなことをお話ししましょうか？\",\n",
    "        },\n",
    "        {\"role\": \"user\", \"content\": \"私の名前が分かりますか？\"},\n",
    "    ],\n",
    ")\n",
    "print(response.to_json(indent=2))"
   ]
  },
  {
   "cell_type": "markdown",
   "metadata": {},
   "source": [
    "### ストリーミングで応答を得る\n"
   ]
  },
  {
   "cell_type": "code",
   "execution_count": null,
   "metadata": {
    "execution": {
     "iopub.execute_input": "2025-03-04T12:05:05.569301Z",
     "iopub.status.busy": "2025-03-04T12:05:05.569019Z",
     "iopub.status.idle": "2025-03-04T12:05:06.555020Z",
     "shell.execute_reply": "2025-03-04T12:05:06.553946Z"
    }
   },
   "outputs": [],
   "source": [
    "from openai import OpenAI\n",
    "\n",
    "client = OpenAI()\n",
    "\n",
    "response = client.chat.completions.create(\n",
    "    model=\"gpt-4.1-nano\",\n",
    "    messages=[\n",
    "        {\"role\": \"developer\", \"content\": \"You are a helpful assistant.\"},\n",
    "        {\"role\": \"user\", \"content\": \"こんにちは！私はジョンと言います！\"},\n",
    "    ],\n",
    "    stream=True,\n",
    ")\n",
    "\n",
    "for chunk in response:\n",
    "    if len(chunk.choices) == 0:\n",
    "        continue\n",
    "    content = chunk.choices[0].delta.content\n",
    "    if content is not None:\n",
    "        print(content, end=\"\", flush=True)"
   ]
  },
  {
   "cell_type": "markdown",
   "metadata": {},
   "source": [
    "## JSON モードと Vision（画像入力）\n"
   ]
  },
  {
   "cell_type": "markdown",
   "metadata": {},
   "source": [
    "### JSON モード\n"
   ]
  },
  {
   "cell_type": "code",
   "execution_count": null,
   "metadata": {
    "execution": {
     "iopub.execute_input": "2025-03-04T12:05:06.558461Z",
     "iopub.status.busy": "2025-03-04T12:05:06.558160Z",
     "iopub.status.idle": "2025-03-04T12:05:07.159639Z",
     "shell.execute_reply": "2025-03-04T12:05:07.158789Z"
    }
   },
   "outputs": [],
   "source": [
    "from openai import OpenAI\n",
    "\n",
    "client = OpenAI()\n",
    "\n",
    "response = client.chat.completions.create(\n",
    "    model=\"gpt-4.1-nano\",\n",
    "    messages=[\n",
    "        {\n",
    "            \"role\": \"developer\",\n",
    "            \"content\": '人物一覧を次のJSON形式で出力してください。\\n{\"people\": [\"aaa\", \"bbb\"]}',\n",
    "        },\n",
    "        {\n",
    "            \"role\": \"user\",\n",
    "            \"content\": \"昔々あるところにおじいさんとおばあさんがいました\",\n",
    "        },\n",
    "    ],\n",
    "    response_format={\"type\": \"json_object\"},\n",
    ")\n",
    "print(response.choices[0].message.content)"
   ]
  },
  {
   "cell_type": "markdown",
   "metadata": {},
   "source": [
    "### Vision（画像入力）\n"
   ]
  },
  {
   "cell_type": "code",
   "execution_count": null,
   "metadata": {
    "execution": {
     "iopub.execute_input": "2025-03-04T12:05:07.163066Z",
     "iopub.status.busy": "2025-03-04T12:05:07.162730Z",
     "iopub.status.idle": "2025-03-04T12:05:10.502374Z",
     "shell.execute_reply": "2025-03-04T12:05:10.501578Z"
    }
   },
   "outputs": [],
   "source": [
    "from openai import OpenAI\n",
    "\n",
    "client = OpenAI()\n",
    "\n",
    "image_url = \"https://raw.githubusercontent.com/GenerativeAgents/agent-book/refs/heads/main/assets/cover.jpg\"\n",
    "\n",
    "response = client.chat.completions.create(\n",
    "    model=\"gpt-4.1-nano\",\n",
    "    messages=[\n",
    "        {\n",
    "            \"role\": \"user\",\n",
    "            \"content\": [\n",
    "                {\"type\": \"text\", \"text\": \"画像を説明してください。\"},\n",
    "                {\"type\": \"image_url\", \"image_url\": {\"url\": image_url}},\n",
    "            ],\n",
    "        }\n",
    "    ],\n",
    ")\n",
    "\n",
    "print(response.choices[0].message.content)"
   ]
  },
  {
   "cell_type": "markdown",
   "metadata": {},
   "source": [
    "## Function calling\n"
   ]
  },
  {
   "cell_type": "markdown",
   "metadata": {},
   "source": [
    "### Function calling\n"
   ]
  },
  {
   "cell_type": "code",
   "execution_count": null,
   "metadata": {
    "execution": {
     "iopub.execute_input": "2025-03-04T12:05:10.505379Z",
     "iopub.status.busy": "2025-03-04T12:05:10.505125Z",
     "iopub.status.idle": "2025-03-04T12:05:10.511644Z",
     "shell.execute_reply": "2025-03-04T12:05:10.510840Z"
    }
   },
   "outputs": [],
   "source": [
    "import json\n",
    "\n",
    "\n",
    "def get_current_weather(location: str, unit: str = \"celsius\") -> str:\n",
    "    return json.dumps({\"location\": location, \"temperature\": 20, \"unit\": unit})"
   ]
  },
  {
   "cell_type": "code",
   "execution_count": null,
   "metadata": {
    "execution": {
     "iopub.execute_input": "2025-03-04T12:05:10.514157Z",
     "iopub.status.busy": "2025-03-04T12:05:10.513902Z",
     "iopub.status.idle": "2025-03-04T12:05:10.519626Z",
     "shell.execute_reply": "2025-03-04T12:05:10.518936Z"
    }
   },
   "outputs": [],
   "source": [
    "tools = [\n",
    "    {\n",
    "        \"type\": \"function\",\n",
    "        \"function\": {\n",
    "            \"name\": \"get_current_weather\",\n",
    "            \"description\": \"Get the current weather in a given location\",\n",
    "            \"parameters\": {\n",
    "                \"type\": \"object\",\n",
    "                \"properties\": {\n",
    "                    \"location\": {\n",
    "                        \"type\": \"string\",\n",
    "                        \"description\": \"The city and state, e.g. San Francisco, CA\",\n",
    "                    },\n",
    "                    \"unit\": {\"type\": \"string\", \"enum\": [\"celsius\", \"fahrenheit\"]},\n",
    "                },\n",
    "                \"required\": [\"location\"],\n",
    "            },\n",
    "        },\n",
    "    }\n",
    "]"
   ]
  },
  {
   "cell_type": "code",
   "execution_count": null,
   "metadata": {
    "execution": {
     "iopub.execute_input": "2025-03-04T12:05:10.521741Z",
     "iopub.status.busy": "2025-03-04T12:05:10.521520Z",
     "iopub.status.idle": "2025-03-04T12:05:11.243671Z",
     "shell.execute_reply": "2025-03-04T12:05:11.242799Z"
    }
   },
   "outputs": [],
   "source": [
    "from openai import OpenAI\n",
    "\n",
    "client = OpenAI()\n",
    "\n",
    "messages = [\n",
    "    {\"role\": \"user\", \"content\": \"東京の天気はどうですか？\"},\n",
    "]\n",
    "\n",
    "response = client.chat.completions.create(\n",
    "    model=\"gpt-4.1-nano\",\n",
    "    messages=messages,\n",
    "    tools=tools,\n",
    ")\n",
    "print(response.to_json(indent=2))"
   ]
  },
  {
   "cell_type": "code",
   "execution_count": null,
   "metadata": {
    "execution": {
     "iopub.execute_input": "2025-03-04T12:05:11.246328Z",
     "iopub.status.busy": "2025-03-04T12:05:11.246081Z",
     "iopub.status.idle": "2025-03-04T12:05:11.254386Z",
     "shell.execute_reply": "2025-03-04T12:05:11.253828Z"
    }
   },
   "outputs": [],
   "source": [
    "response_message = response.choices[0].message\n",
    "messages.append(response_message.to_dict())"
   ]
  },
  {
   "cell_type": "code",
   "execution_count": null,
   "metadata": {
    "execution": {
     "iopub.execute_input": "2025-03-04T12:05:11.256300Z",
     "iopub.status.busy": "2025-03-04T12:05:11.256126Z",
     "iopub.status.idle": "2025-03-04T12:05:11.262204Z",
     "shell.execute_reply": "2025-03-04T12:05:11.261703Z"
    }
   },
   "outputs": [],
   "source": [
    "available_functions = {\n",
    "    \"get_current_weather\": get_current_weather,\n",
    "}\n",
    "\n",
    "# 使いたい関数は複数あるかもしれないのでループ\n",
    "for tool_call in response_message.tool_calls:\n",
    "    # 関数を実行\n",
    "    function_name = tool_call.function.name\n",
    "    function_to_call = available_functions[function_name]\n",
    "    function_args = json.loads(tool_call.function.arguments)\n",
    "    function_response = function_to_call(\n",
    "        location=function_args.get(\"location\"),\n",
    "        unit=function_args.get(\"unit\"),\n",
    "    )\n",
    "    print(function_response.encode(\"utf-8\").decode(\"unicode_escape\"))\n",
    "\n",
    "    # 関数の実行結果を会話履歴としてmessagesに追加\n",
    "    messages.append(\n",
    "        {\n",
    "            \"tool_call_id\": tool_call.id,\n",
    "            \"role\": \"tool\",\n",
    "            \"name\": function_name,\n",
    "            \"content\": function_response,\n",
    "        }\n",
    "    )"
   ]
  },
  {
   "cell_type": "code",
   "execution_count": null,
   "metadata": {
    "execution": {
     "iopub.execute_input": "2025-03-04T12:05:11.263970Z",
     "iopub.status.busy": "2025-03-04T12:05:11.263803Z",
     "iopub.status.idle": "2025-03-04T12:05:11.267091Z",
     "shell.execute_reply": "2025-03-04T12:05:11.266663Z"
    }
   },
   "outputs": [],
   "source": [
    "print(json.dumps(messages, ensure_ascii=False, indent=2))"
   ]
  },
  {
   "cell_type": "code",
   "execution_count": null,
   "metadata": {
    "execution": {
     "iopub.execute_input": "2025-03-04T12:05:11.268469Z",
     "iopub.status.busy": "2025-03-04T12:05:11.268319Z",
     "iopub.status.idle": "2025-03-04T12:05:12.175760Z",
     "shell.execute_reply": "2025-03-04T12:05:12.174608Z"
    }
   },
   "outputs": [],
   "source": [
    "second_response = client.chat.completions.create(\n",
    "    model=\"gpt-4.1-nano\",\n",
    "    messages=messages,\n",
    ")\n",
    "print(second_response.to_json(indent=2))"
   ]
  },
  {
   "cell_type": "code",
   "execution_count": null,
   "metadata": {},
   "outputs": [],
   "source": []
  },
  {
   "cell_type": "markdown",
   "metadata": {},
   "source": [
    "# プロンプトエンジニアリングの基礎\n"
   ]
  },
  {
   "cell_type": "markdown",
   "metadata": {},
   "source": [
    "## プロンプトエンジニアリングとは\n"
   ]
  },
  {
   "cell_type": "code",
   "execution_count": null,
   "metadata": {
    "execution": {
     "iopub.execute_input": "2025-03-04T12:05:12.179433Z",
     "iopub.status.busy": "2025-03-04T12:05:12.179083Z",
     "iopub.status.idle": "2025-03-04T12:05:19.994878Z",
     "shell.execute_reply": "2025-03-04T12:05:19.991672Z"
    }
   },
   "outputs": [],
   "source": [
    "from openai import OpenAI\n",
    "\n",
    "client = OpenAI()\n",
    "\n",
    "response = client.chat.completions.create(\n",
    "    model=\"gpt-4.1-nano\",\n",
    "    messages=[\n",
    "        {\"role\": \"user\", \"content\": \"プロンプトエンジニアリングとは\"},\n",
    "    ],\n",
    ")\n",
    "print(response.choices[0].message.content)"
   ]
  },
  {
   "cell_type": "code",
   "execution_count": null,
   "metadata": {
    "execution": {
     "iopub.execute_input": "2025-03-04T12:05:20.002967Z",
     "iopub.status.busy": "2025-03-04T12:05:20.002619Z",
     "iopub.status.idle": "2025-03-04T12:05:22.811864Z",
     "shell.execute_reply": "2025-03-04T12:05:22.810795Z"
    }
   },
   "outputs": [],
   "source": [
    "from openai import OpenAI\n",
    "\n",
    "client = OpenAI()\n",
    "\n",
    "response = client.chat.completions.create(\n",
    "    model=\"gpt-4.1-nano\",\n",
    "    messages=[\n",
    "        {\"role\": \"developer\", \"content\": \"質問に100文字程度で答えてください。\"},\n",
    "        {\"role\": \"user\", \"content\": \"プロンプトエンジニアリングとは\"},\n",
    "    ],\n",
    ")\n",
    "print(response.choices[0].message.content)"
   ]
  },
  {
   "cell_type": "markdown",
   "metadata": {},
   "source": [
    "## Zero-shot プロンプティング\n"
   ]
  },
  {
   "cell_type": "code",
   "execution_count": null,
   "metadata": {
    "execution": {
     "iopub.execute_input": "2025-03-04T12:05:22.816020Z",
     "iopub.status.busy": "2025-03-04T12:05:22.815658Z",
     "iopub.status.idle": "2025-03-04T12:05:23.976450Z",
     "shell.execute_reply": "2025-03-04T12:05:23.975599Z"
    }
   },
   "outputs": [],
   "source": [
    "from openai import OpenAI\n",
    "\n",
    "client = OpenAI()\n",
    "\n",
    "response = client.chat.completions.create(\n",
    "    model=\"gpt-4.1-nano\",\n",
    "    messages=[\n",
    "        {\n",
    "            \"role\": \"developer\",\n",
    "            \"content\": \"入力をポジティブ・ネガティブ・中立のどれかに分類してください。\",\n",
    "        },\n",
    "        {\n",
    "            \"role\": \"user\",\n",
    "            \"content\": \"ChatGPTはとても便利だ\",\n",
    "        },\n",
    "    ],\n",
    ")\n",
    "print(response.choices[0].message.content)"
   ]
  },
  {
   "cell_type": "markdown",
   "metadata": {},
   "source": [
    "## Few-shot プロンプティング\n"
   ]
  },
  {
   "cell_type": "code",
   "execution_count": null,
   "metadata": {
    "execution": {
     "iopub.execute_input": "2025-03-04T12:05:23.979296Z",
     "iopub.status.busy": "2025-03-04T12:05:23.979021Z",
     "iopub.status.idle": "2025-03-04T12:05:36.116355Z",
     "shell.execute_reply": "2025-03-04T12:05:36.113889Z"
    }
   },
   "outputs": [],
   "source": [
    "from openai import OpenAI\n",
    "\n",
    "client = OpenAI()\n",
    "\n",
    "response = client.chat.completions.create(\n",
    "    model=\"gpt-4.1-nano\",\n",
    "    messages=[\n",
    "        {\"role\": \"developer\", \"content\": \"入力がAIに関係するか回答してください。\"},\n",
    "        {\"role\": \"user\", \"content\": \"ChatGPTはとても便利だ\"},\n",
    "    ],\n",
    ")\n",
    "print(response.choices[0].message.content)"
   ]
  },
  {
   "cell_type": "code",
   "execution_count": null,
   "metadata": {
    "execution": {
     "iopub.execute_input": "2025-03-04T12:05:36.130237Z",
     "iopub.status.busy": "2025-03-04T12:05:36.129386Z",
     "iopub.status.idle": "2025-03-04T12:05:36.487643Z",
     "shell.execute_reply": "2025-03-04T12:05:36.486561Z"
    }
   },
   "outputs": [],
   "source": [
    "from openai import OpenAI\n",
    "\n",
    "client = OpenAI()\n",
    "\n",
    "response = client.chat.completions.create(\n",
    "    model=\"gpt-4.1-nano\",\n",
    "    messages=[\n",
    "        {\"role\": \"developer\", \"content\": \"入力がAIに関係するか回答してください。\"},\n",
    "        {\"role\": \"user\", \"content\": \"AIの進化はすごい\"},\n",
    "        {\"role\": \"assistant\", \"content\": \"true\"},\n",
    "        {\"role\": \"user\", \"content\": \"今日は良い天気だ\"},\n",
    "        {\"role\": \"assistant\", \"content\": \"false\"},\n",
    "        {\"role\": \"user\", \"content\": \"ChatGPTはとても便利だ\"},\n",
    "    ],\n",
    ")\n",
    "print(response.choices[0].message.content)"
   ]
  },
  {
   "cell_type": "markdown",
   "metadata": {},
   "source": [
    "## Zero-shot Chain of Thought プロンプティング\n"
   ]
  },
  {
   "cell_type": "code",
   "execution_count": null,
   "metadata": {
    "execution": {
     "iopub.execute_input": "2025-03-04T12:05:36.491321Z",
     "iopub.status.busy": "2025-03-04T12:05:36.491001Z",
     "iopub.status.idle": "2025-03-04T12:05:36.986520Z",
     "shell.execute_reply": "2025-03-04T12:05:36.985396Z"
    }
   },
   "outputs": [],
   "source": [
    "from openai import OpenAI\n",
    "\n",
    "client = OpenAI()\n",
    "\n",
    "response = client.chat.completions.create(\n",
    "    model=\"gpt-4.1-nano\",\n",
    "    messages=[\n",
    "        {\"role\": \"developer\", \"content\": \"回答だけ一言で出力してください。\"},\n",
    "        {\"role\": \"user\", \"content\": \"10 + 2 * 3 - 4 * 2\"},\n",
    "    ],\n",
    ")\n",
    "print(response.choices[0].message.content)"
   ]
  },
  {
   "cell_type": "code",
   "execution_count": null,
   "metadata": {
    "execution": {
     "iopub.execute_input": "2025-03-04T12:05:36.990044Z",
     "iopub.status.busy": "2025-03-04T12:05:36.989733Z",
     "iopub.status.idle": "2025-03-04T12:05:38.734438Z",
     "shell.execute_reply": "2025-03-04T12:05:38.733535Z"
    }
   },
   "outputs": [],
   "source": [
    "from openai import OpenAI\n",
    "\n",
    "client = OpenAI()\n",
    "\n",
    "response = client.chat.completions.create(\n",
    "    model=\"gpt-4.1-nano\",\n",
    "    messages=[\n",
    "        {\"role\": \"developer\", \"content\": \"ステップバイステップで考えてください。\"},\n",
    "        {\"role\": \"user\", \"content\": \"10 + 2 * 3 - 4 * 2\"},\n",
    "    ],\n",
    ")\n",
    "print(response.choices[0].message.content)"
   ]
  },
  {
   "cell_type": "code",
   "execution_count": null,
   "metadata": {},
   "outputs": [],
   "source": []
  }
 ],
 "metadata": {
  "kernelspec": {
   "display_name": ".venv",
   "language": "python",
   "name": "python3"
  },
  "language_info": {
   "codemirror_mode": {
    "name": "ipython",
    "version": 3
   },
   "file_extension": ".py",
   "mimetype": "text/x-python",
   "name": "python",
   "nbconvert_exporter": "python",
   "pygments_lexer": "ipython3",
   "version": "3.10.12"
  }
 },
 "nbformat": 4,
 "nbformat_minor": 4
}
