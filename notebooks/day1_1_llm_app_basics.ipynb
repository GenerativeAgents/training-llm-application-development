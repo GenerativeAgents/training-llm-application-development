{
 "cells": [
  {
   "cell_type": "markdown",
   "metadata": {},
   "source": [
    "# OpenAI のチャット API の基礎\n"
   ]
  },
  {
   "cell_type": "code",
   "execution_count": null,
   "metadata": {
    "execution": {
     "iopub.execute_input": "2025-02-16T03:26:50.017483Z",
     "iopub.status.busy": "2025-02-16T03:26:50.017396Z",
     "iopub.status.idle": "2025-02-16T03:26:50.246197Z",
     "shell.execute_reply": "2025-02-16T03:26:50.245790Z"
    }
   },
   "outputs": [],
   "source": [
    "!python --version"
   ]
  },
  {
   "cell_type": "code",
   "execution_count": null,
   "metadata": {
    "execution": {
     "iopub.execute_input": "2025-02-16T03:26:50.247971Z",
     "iopub.status.busy": "2025-02-16T03:26:50.247817Z",
     "iopub.status.idle": "2025-02-16T03:26:50.249937Z",
     "shell.execute_reply": "2025-02-16T03:26:50.249633Z"
    }
   },
   "outputs": [],
   "source": [
    "print(\"hello\")"
   ]
  },
  {
   "cell_type": "markdown",
   "metadata": {},
   "source": [
    "## Chat Completions API を試してみよう！\n"
   ]
  },
  {
   "cell_type": "markdown",
   "metadata": {},
   "source": [
    "### OpenAI API キー（環境変数）の設定\n"
   ]
  },
  {
   "cell_type": "code",
   "execution_count": null,
   "metadata": {
    "execution": {
     "iopub.execute_input": "2025-02-16T03:26:50.251262Z",
     "iopub.status.busy": "2025-02-16T03:26:50.251165Z",
     "iopub.status.idle": "2025-02-16T03:26:50.257700Z",
     "shell.execute_reply": "2025-02-16T03:26:50.257463Z"
    }
   },
   "outputs": [],
   "source": [
    "from dotenv import load_dotenv\n",
    "\n",
    "load_dotenv(dotenv_path=\"../.env\", override=True)"
   ]
  },
  {
   "cell_type": "code",
   "execution_count": null,
   "metadata": {
    "execution": {
     "iopub.execute_input": "2025-02-16T03:26:50.258762Z",
     "iopub.status.busy": "2025-02-16T03:26:50.258679Z",
     "iopub.status.idle": "2025-02-16T03:26:50.260297Z",
     "shell.execute_reply": "2025-02-16T03:26:50.260084Z"
    }
   },
   "outputs": [],
   "source": [
    "import os\n",
    "\n",
    "print(os.environ[\"OPENAI_API_KEY\"][:3])\n",
    "# \"sk-\" と表示されれば、OpenAIのAPIキーを環境変数に設定できています"
   ]
  },
  {
   "cell_type": "markdown",
   "metadata": {},
   "source": [
    "### Chat Completions API の呼び出し\n"
   ]
  },
  {
   "cell_type": "code",
   "execution_count": null,
   "metadata": {
    "execution": {
     "iopub.execute_input": "2025-02-16T03:26:50.261442Z",
     "iopub.status.busy": "2025-02-16T03:26:50.261357Z",
     "iopub.status.idle": "2025-02-16T03:26:51.436619Z",
     "shell.execute_reply": "2025-02-16T03:26:51.436281Z"
    }
   },
   "outputs": [],
   "source": [
    "from openai import OpenAI\n",
    "\n",
    "client = OpenAI()\n",
    "\n",
    "response = client.chat.completions.create(\n",
    "    model=\"gpt-4o-mini\",\n",
    "    messages=[\n",
    "        {\"role\": \"developer\", \"content\": \"You are a helpful assistant.\"},\n",
    "        {\"role\": \"user\", \"content\": \"こんにちは！私はジョンと言います！\"},\n",
    "    ],\n",
    ")\n",
    "print(response.to_json(indent=2))"
   ]
  },
  {
   "cell_type": "markdown",
   "metadata": {},
   "source": [
    "### 会話履歴を踏まえた応答を得る\n"
   ]
  },
  {
   "cell_type": "code",
   "execution_count": null,
   "metadata": {
    "execution": {
     "iopub.execute_input": "2025-02-16T03:26:51.438305Z",
     "iopub.status.busy": "2025-02-16T03:26:51.438173Z",
     "iopub.status.idle": "2025-02-16T03:26:52.898189Z",
     "shell.execute_reply": "2025-02-16T03:26:52.897547Z"
    }
   },
   "outputs": [],
   "source": [
    "from openai import OpenAI\n",
    "\n",
    "client = OpenAI()\n",
    "\n",
    "response = client.chat.completions.create(\n",
    "    model=\"gpt-4o-mini\",\n",
    "    messages=[\n",
    "        {\"role\": \"developer\", \"content\": \"You are a helpful assistant.\"},\n",
    "        {\"role\": \"user\", \"content\": \"こんにちは！私はジョンと言います！\"},\n",
    "        {\n",
    "            \"role\": \"assistant\",\n",
    "            \"content\": \"こんにちは、ジョンさん！お会いできて嬉しいです。今日はどんなことをお話ししましょうか？\",\n",
    "        },\n",
    "        {\"role\": \"user\", \"content\": \"私の名前が分かりますか？\"},\n",
    "    ],\n",
    ")\n",
    "print(response.to_json(indent=2))"
   ]
  },
  {
   "cell_type": "markdown",
   "metadata": {},
   "source": [
    "### ストリーミングで応答を得る\n"
   ]
  },
  {
   "cell_type": "code",
   "execution_count": null,
   "metadata": {
    "execution": {
     "iopub.execute_input": "2025-02-16T03:26:52.901497Z",
     "iopub.status.busy": "2025-02-16T03:26:52.901169Z",
     "iopub.status.idle": "2025-02-16T03:26:53.657334Z",
     "shell.execute_reply": "2025-02-16T03:26:53.656746Z"
    }
   },
   "outputs": [],
   "source": [
    "from openai import OpenAI\n",
    "\n",
    "client = OpenAI()\n",
    "\n",
    "response = client.chat.completions.create(\n",
    "    model=\"gpt-4o-mini\",\n",
    "    messages=[\n",
    "        {\"role\": \"developer\", \"content\": \"You are a helpful assistant.\"},\n",
    "        {\"role\": \"user\", \"content\": \"こんにちは！私はジョンと言います！\"},\n",
    "    ],\n",
    "    stream=True,\n",
    ")\n",
    "\n",
    "for chunk in response:\n",
    "    if len(chunk.choices) == 0:\n",
    "        continue\n",
    "    content = chunk.choices[0].delta.content\n",
    "    if content is not None:\n",
    "        print(content, end=\"\", flush=True)"
   ]
  },
  {
   "cell_type": "markdown",
   "metadata": {},
   "source": [
    "## JSON モードと Vision（画像入力）\n"
   ]
  },
  {
   "cell_type": "markdown",
   "metadata": {},
   "source": [
    "### JSON モード\n"
   ]
  },
  {
   "cell_type": "code",
   "execution_count": null,
   "metadata": {
    "execution": {
     "iopub.execute_input": "2025-02-16T03:26:53.660479Z",
     "iopub.status.busy": "2025-02-16T03:26:53.659955Z",
     "iopub.status.idle": "2025-02-16T03:26:54.205845Z",
     "shell.execute_reply": "2025-02-16T03:26:54.205209Z"
    }
   },
   "outputs": [],
   "source": [
    "from openai import OpenAI\n",
    "\n",
    "client = OpenAI()\n",
    "\n",
    "response = client.chat.completions.create(\n",
    "    model=\"gpt-4o-mini\",\n",
    "    messages=[\n",
    "        {\n",
    "            \"role\": \"developer\",\n",
    "            \"content\": '人物一覧を次のJSON形式で出力してください。\\n{\"people\": [\"aaa\", \"bbb\"]}',\n",
    "        },\n",
    "        {\n",
    "            \"role\": \"user\",\n",
    "            \"content\": \"昔々あるところにおじいさんとおばあさんがいました\",\n",
    "        },\n",
    "    ],\n",
    "    response_format={\"type\": \"json_object\"},\n",
    ")\n",
    "print(response.choices[0].message.content)"
   ]
  },
  {
   "cell_type": "markdown",
   "metadata": {},
   "source": [
    "### Vision（画像入力）\n"
   ]
  },
  {
   "cell_type": "code",
   "execution_count": null,
   "metadata": {
    "execution": {
     "iopub.execute_input": "2025-02-16T03:26:54.208723Z",
     "iopub.status.busy": "2025-02-16T03:26:54.208438Z",
     "iopub.status.idle": "2025-02-16T03:26:58.716198Z",
     "shell.execute_reply": "2025-02-16T03:26:58.715661Z"
    }
   },
   "outputs": [],
   "source": [
    "from openai import OpenAI\n",
    "\n",
    "client = OpenAI()\n",
    "\n",
    "image_url = \"https://raw.githubusercontent.com/GenerativeAgents/agent-book/refs/heads/main/assets/cover.jpg\"\n",
    "\n",
    "response = client.chat.completions.create(\n",
    "    model=\"gpt-4o-mini\",\n",
    "    messages=[\n",
    "        {\n",
    "            \"role\": \"user\",\n",
    "            \"content\": [\n",
    "                {\"type\": \"text\", \"text\": \"画像を説明してください。\"},\n",
    "                {\"type\": \"image_url\", \"image_url\": {\"url\": image_url}},\n",
    "            ],\n",
    "        }\n",
    "    ],\n",
    ")\n",
    "\n",
    "print(response.choices[0].message.content)"
   ]
  },
  {
   "cell_type": "markdown",
   "metadata": {},
   "source": [
    "## Function calling\n"
   ]
  },
  {
   "cell_type": "markdown",
   "metadata": {},
   "source": [
    "### Function calling\n"
   ]
  },
  {
   "cell_type": "code",
   "execution_count": null,
   "metadata": {
    "execution": {
     "iopub.execute_input": "2025-02-16T03:26:58.719337Z",
     "iopub.status.busy": "2025-02-16T03:26:58.719030Z",
     "iopub.status.idle": "2025-02-16T03:26:58.722240Z",
     "shell.execute_reply": "2025-02-16T03:26:58.721819Z"
    }
   },
   "outputs": [],
   "source": [
    "import json\n",
    "\n",
    "\n",
    "def get_current_weather(location: str, unit: str = \"celsius\") -> str:\n",
    "    return json.dumps({\"location\": location, \"temperature\": 20, \"unit\": unit})"
   ]
  },
  {
   "cell_type": "code",
   "execution_count": null,
   "metadata": {
    "execution": {
     "iopub.execute_input": "2025-02-16T03:26:58.724183Z",
     "iopub.status.busy": "2025-02-16T03:26:58.724022Z",
     "iopub.status.idle": "2025-02-16T03:26:58.727145Z",
     "shell.execute_reply": "2025-02-16T03:26:58.726803Z"
    }
   },
   "outputs": [],
   "source": [
    "tools = [\n",
    "    {\n",
    "        \"type\": \"function\",\n",
    "        \"function\": {\n",
    "            \"name\": \"get_current_weather\",\n",
    "            \"description\": \"Get the current weather in a given location\",\n",
    "            \"parameters\": {\n",
    "                \"type\": \"object\",\n",
    "                \"properties\": {\n",
    "                    \"location\": {\n",
    "                        \"type\": \"string\",\n",
    "                        \"description\": \"The city and state, e.g. San Francisco, CA\",\n",
    "                    },\n",
    "                    \"unit\": {\"type\": \"string\", \"enum\": [\"celsius\", \"fahrenheit\"]},\n",
    "                },\n",
    "                \"required\": [\"location\"],\n",
    "            },\n",
    "        },\n",
    "    }\n",
    "]"
   ]
  },
  {
   "cell_type": "code",
   "execution_count": null,
   "metadata": {
    "execution": {
     "iopub.execute_input": "2025-02-16T03:26:58.728664Z",
     "iopub.status.busy": "2025-02-16T03:26:58.728519Z",
     "iopub.status.idle": "2025-02-16T03:26:59.456299Z",
     "shell.execute_reply": "2025-02-16T03:26:59.455719Z"
    }
   },
   "outputs": [],
   "source": [
    "from openai import OpenAI\n",
    "\n",
    "client = OpenAI()\n",
    "\n",
    "messages = [\n",
    "    {\"role\": \"user\", \"content\": \"東京の天気はどうですか？\"},\n",
    "]\n",
    "\n",
    "response = client.chat.completions.create(\n",
    "    model=\"gpt-4o\",\n",
    "    messages=messages,\n",
    "    tools=tools,\n",
    ")\n",
    "print(response.to_json(indent=2))"
   ]
  },
  {
   "cell_type": "code",
   "execution_count": null,
   "metadata": {
    "execution": {
     "iopub.execute_input": "2025-02-16T03:26:59.459132Z",
     "iopub.status.busy": "2025-02-16T03:26:59.458852Z",
     "iopub.status.idle": "2025-02-16T03:26:59.465392Z",
     "shell.execute_reply": "2025-02-16T03:26:59.464966Z"
    }
   },
   "outputs": [],
   "source": [
    "response_message = response.choices[0].message\n",
    "messages.append(response_message.to_dict())"
   ]
  },
  {
   "cell_type": "code",
   "execution_count": null,
   "metadata": {
    "execution": {
     "iopub.execute_input": "2025-02-16T03:26:59.467636Z",
     "iopub.status.busy": "2025-02-16T03:26:59.467340Z",
     "iopub.status.idle": "2025-02-16T03:26:59.472827Z",
     "shell.execute_reply": "2025-02-16T03:26:59.472412Z"
    }
   },
   "outputs": [],
   "source": [
    "available_functions = {\n",
    "    \"get_current_weather\": get_current_weather,\n",
    "}\n",
    "\n",
    "# 使いたい関数は複数あるかもしれないのでループ\n",
    "for tool_call in response_message.tool_calls:\n",
    "    # 関数を実行\n",
    "    function_name = tool_call.function.name\n",
    "    function_to_call = available_functions[function_name]\n",
    "    function_args = json.loads(tool_call.function.arguments)\n",
    "    function_response = function_to_call(\n",
    "        location=function_args.get(\"location\"),\n",
    "        unit=function_args.get(\"unit\"),\n",
    "    )\n",
    "    print(function_response.encode(\"utf-8\").decode(\"unicode_escape\"))\n",
    "\n",
    "    # 関数の実行結果を会話履歴としてmessagesに追加\n",
    "    messages.append(\n",
    "        {\n",
    "            \"tool_call_id\": tool_call.id,\n",
    "            \"role\": \"tool\",\n",
    "            \"name\": function_name,\n",
    "            \"content\": function_response,\n",
    "        }\n",
    "    )"
   ]
  },
  {
   "cell_type": "code",
   "execution_count": null,
   "metadata": {
    "execution": {
     "iopub.execute_input": "2025-02-16T03:26:59.474660Z",
     "iopub.status.busy": "2025-02-16T03:26:59.474490Z",
     "iopub.status.idle": "2025-02-16T03:26:59.477000Z",
     "shell.execute_reply": "2025-02-16T03:26:59.476622Z"
    }
   },
   "outputs": [],
   "source": [
    "print(json.dumps(messages, ensure_ascii=False, indent=2))"
   ]
  },
  {
   "cell_type": "code",
   "execution_count": null,
   "metadata": {
    "execution": {
     "iopub.execute_input": "2025-02-16T03:26:59.478571Z",
     "iopub.status.busy": "2025-02-16T03:26:59.478431Z",
     "iopub.status.idle": "2025-02-16T03:26:59.958167Z",
     "shell.execute_reply": "2025-02-16T03:26:59.957557Z"
    }
   },
   "outputs": [],
   "source": [
    "second_response = client.chat.completions.create(\n",
    "    model=\"gpt-4o\",\n",
    "    messages=messages,\n",
    ")\n",
    "print(second_response.to_json(indent=2))"
   ]
  },
  {
   "cell_type": "code",
   "execution_count": null,
   "metadata": {},
   "outputs": [],
   "source": []
  },
  {
   "cell_type": "markdown",
   "metadata": {},
   "source": [
    "# プロンプトエンジニアリングの基礎\n"
   ]
  },
  {
   "cell_type": "markdown",
   "metadata": {},
   "source": [
    "## プロンプトエンジニアリングとは\n"
   ]
  },
  {
   "cell_type": "code",
   "execution_count": null,
   "metadata": {
    "execution": {
     "iopub.execute_input": "2025-02-16T03:26:59.961146Z",
     "iopub.status.busy": "2025-02-16T03:26:59.960872Z",
     "iopub.status.idle": "2025-02-16T03:27:05.666911Z",
     "shell.execute_reply": "2025-02-16T03:27:05.666253Z"
    }
   },
   "outputs": [],
   "source": [
    "from openai import OpenAI\n",
    "\n",
    "client = OpenAI()\n",
    "\n",
    "response = client.chat.completions.create(\n",
    "    model=\"gpt-4o-mini\",\n",
    "    messages=[\n",
    "        {\"role\": \"user\", \"content\": \"プロンプトエンジニアリングとは\"},\n",
    "    ],\n",
    ")\n",
    "print(response.choices[0].message.content)"
   ]
  },
  {
   "cell_type": "code",
   "execution_count": null,
   "metadata": {
    "execution": {
     "iopub.execute_input": "2025-02-16T03:27:05.669918Z",
     "iopub.status.busy": "2025-02-16T03:27:05.669658Z",
     "iopub.status.idle": "2025-02-16T03:27:07.290430Z",
     "shell.execute_reply": "2025-02-16T03:27:07.289683Z"
    }
   },
   "outputs": [],
   "source": [
    "from openai import OpenAI\n",
    "\n",
    "client = OpenAI()\n",
    "\n",
    "response = client.chat.completions.create(\n",
    "    model=\"gpt-4o-mini\",\n",
    "    messages=[\n",
    "        {\"role\": \"developer\", \"content\": \"質問に100文字程度で答えてください。\"},\n",
    "        {\"role\": \"user\", \"content\": \"プロンプトエンジニアリングとは\"},\n",
    "    ],\n",
    ")\n",
    "print(response.choices[0].message.content)"
   ]
  },
  {
   "cell_type": "markdown",
   "metadata": {},
   "source": [
    "## Zero-shot プロンプティング\n"
   ]
  },
  {
   "cell_type": "code",
   "execution_count": null,
   "metadata": {
    "execution": {
     "iopub.execute_input": "2025-02-16T03:27:07.294406Z",
     "iopub.status.busy": "2025-02-16T03:27:07.294052Z",
     "iopub.status.idle": "2025-02-16T03:27:07.788962Z",
     "shell.execute_reply": "2025-02-16T03:27:07.787998Z"
    }
   },
   "outputs": [],
   "source": [
    "from openai import OpenAI\n",
    "\n",
    "client = OpenAI()\n",
    "\n",
    "response = client.chat.completions.create(\n",
    "    model=\"gpt-4o-mini\",\n",
    "    messages=[\n",
    "        {\n",
    "            \"role\": \"developer\",\n",
    "            \"content\": \"入力をポジティブ・ネガティブ・中立のどれかに分類してください。\",\n",
    "        },\n",
    "        {\n",
    "            \"role\": \"user\",\n",
    "            \"content\": \"ChatGPTはとても便利だ\",\n",
    "        },\n",
    "    ],\n",
    ")\n",
    "print(response.choices[0].message.content)"
   ]
  },
  {
   "cell_type": "markdown",
   "metadata": {},
   "source": [
    "## Few-shot プロンプティング\n"
   ]
  },
  {
   "cell_type": "code",
   "execution_count": null,
   "metadata": {
    "execution": {
     "iopub.execute_input": "2025-02-16T03:27:07.792288Z",
     "iopub.status.busy": "2025-02-16T03:27:07.791970Z",
     "iopub.status.idle": "2025-02-16T03:27:08.988253Z",
     "shell.execute_reply": "2025-02-16T03:27:08.987464Z"
    }
   },
   "outputs": [],
   "source": [
    "from openai import OpenAI\n",
    "\n",
    "client = OpenAI()\n",
    "\n",
    "response = client.chat.completions.create(\n",
    "    model=\"gpt-4o-mini\",\n",
    "    messages=[\n",
    "        {\"role\": \"developer\", \"content\": \"入力がAIに関係するか回答してください。\"},\n",
    "        {\"role\": \"user\", \"content\": \"ChatGPTはとても便利だ\"},\n",
    "    ],\n",
    ")\n",
    "print(response.choices[0].message.content)"
   ]
  },
  {
   "cell_type": "code",
   "execution_count": null,
   "metadata": {
    "execution": {
     "iopub.execute_input": "2025-02-16T03:27:08.991888Z",
     "iopub.status.busy": "2025-02-16T03:27:08.991468Z",
     "iopub.status.idle": "2025-02-16T03:27:09.484779Z",
     "shell.execute_reply": "2025-02-16T03:27:09.484399Z"
    }
   },
   "outputs": [],
   "source": [
    "from openai import OpenAI\n",
    "\n",
    "client = OpenAI()\n",
    "\n",
    "response = client.chat.completions.create(\n",
    "    model=\"gpt-4o-mini\",\n",
    "    messages=[\n",
    "        {\"role\": \"developer\", \"content\": \"入力がAIに関係するか回答してください。\"},\n",
    "        {\"role\": \"user\", \"content\": \"AIの進化はすごい\"},\n",
    "        {\"role\": \"assistant\", \"content\": \"true\"},\n",
    "        {\"role\": \"user\", \"content\": \"今日は良い天気だ\"},\n",
    "        {\"role\": \"assistant\", \"content\": \"false\"},\n",
    "        {\"role\": \"user\", \"content\": \"ChatGPTはとても便利だ\"},\n",
    "    ],\n",
    ")\n",
    "print(response.choices[0].message.content)"
   ]
  },
  {
   "cell_type": "markdown",
   "metadata": {},
   "source": [
    "## Zero-shot Chain of Thought プロンプティング\n"
   ]
  },
  {
   "cell_type": "code",
   "execution_count": null,
   "metadata": {
    "execution": {
     "iopub.execute_input": "2025-02-16T03:27:09.486223Z",
     "iopub.status.busy": "2025-02-16T03:27:09.486112Z",
     "iopub.status.idle": "2025-02-16T03:27:09.938227Z",
     "shell.execute_reply": "2025-02-16T03:27:09.937704Z"
    }
   },
   "outputs": [],
   "source": [
    "from openai import OpenAI\n",
    "\n",
    "client = OpenAI()\n",
    "\n",
    "response = client.chat.completions.create(\n",
    "    model=\"gpt-4o-mini\",\n",
    "    messages=[\n",
    "        {\"role\": \"developer\", \"content\": \"回答だけ一言で出力してください。\"},\n",
    "        {\"role\": \"user\", \"content\": \"10 + 2 * 3 - 4 * 2\"},\n",
    "    ],\n",
    ")\n",
    "print(response.choices[0].message.content)"
   ]
  },
  {
   "cell_type": "code",
   "execution_count": null,
   "metadata": {
    "execution": {
     "iopub.execute_input": "2025-02-16T03:27:09.940702Z",
     "iopub.status.busy": "2025-02-16T03:27:09.940354Z",
     "iopub.status.idle": "2025-02-16T03:27:12.324392Z",
     "shell.execute_reply": "2025-02-16T03:27:12.323656Z"
    }
   },
   "outputs": [],
   "source": [
    "from openai import OpenAI\n",
    "\n",
    "client = OpenAI()\n",
    "\n",
    "response = client.chat.completions.create(\n",
    "    model=\"gpt-4o-mini\",\n",
    "    messages=[\n",
    "        {\"role\": \"developer\", \"content\": \"ステップバイステップで考えてください。\"},\n",
    "        {\"role\": \"user\", \"content\": \"10 + 2 * 3 - 4 * 2\"},\n",
    "    ],\n",
    ")\n",
    "print(response.choices[0].message.content)"
   ]
  },
  {
   "cell_type": "code",
   "execution_count": null,
   "metadata": {},
   "outputs": [],
   "source": []
  }
 ],
 "metadata": {
  "kernelspec": {
   "display_name": ".venv",
   "language": "python",
   "name": "python3"
  },
  "language_info": {
   "codemirror_mode": {
    "name": "ipython",
    "version": 3
   },
   "file_extension": ".py",
   "mimetype": "text/x-python",
   "name": "python",
   "nbconvert_exporter": "python",
   "pygments_lexer": "ipython3",
   "version": "3.10.12"
  }
 },
 "nbformat": 4,
 "nbformat_minor": 4
}
