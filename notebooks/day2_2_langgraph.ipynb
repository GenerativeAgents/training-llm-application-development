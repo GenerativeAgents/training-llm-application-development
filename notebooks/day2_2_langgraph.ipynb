{
 "cells": [
  {
   "cell_type": "markdown",
   "metadata": {},
   "source": [
    "# LangGraph の基礎\n"
   ]
  },
  {
   "cell_type": "code",
   "execution_count": null,
   "metadata": {
    "execution": {
     "iopub.execute_input": "2025-02-16T03:30:11.097352Z",
     "iopub.status.busy": "2025-02-16T03:30:11.097273Z",
     "iopub.status.idle": "2025-02-16T03:30:11.104864Z",
     "shell.execute_reply": "2025-02-16T03:30:11.104627Z"
    }
   },
   "outputs": [],
   "source": [
    "from dotenv import load_dotenv\n",
    "\n",
    "load_dotenv(dotenv_path=\"../.env\", override=True)"
   ]
  },
  {
   "cell_type": "markdown",
   "metadata": {},
   "source": [
    "## 単純なチャットボットの実装\n"
   ]
  },
  {
   "cell_type": "code",
   "execution_count": null,
   "metadata": {
    "execution": {
     "iopub.execute_input": "2025-02-16T03:30:11.105958Z",
     "iopub.status.busy": "2025-02-16T03:30:11.105871Z",
     "iopub.status.idle": "2025-02-16T03:30:11.361806Z",
     "shell.execute_reply": "2025-02-16T03:30:11.361568Z"
    }
   },
   "outputs": [],
   "source": [
    "from typing import Annotated\n",
    "from typing_extensions import TypedDict\n",
    "\n",
    "from langchain_core.messages import BaseMessage\n",
    "from langgraph.graph.message import add_messages\n",
    "\n",
    "\n",
    "class State(TypedDict):\n",
    "    messages: Annotated[list[BaseMessage], add_messages]"
   ]
  },
  {
   "cell_type": "code",
   "execution_count": null,
   "metadata": {
    "execution": {
     "iopub.execute_input": "2025-02-16T03:30:11.363002Z",
     "iopub.status.busy": "2025-02-16T03:30:11.362911Z",
     "iopub.status.idle": "2025-02-16T03:30:11.650262Z",
     "shell.execute_reply": "2025-02-16T03:30:11.649987Z"
    }
   },
   "outputs": [],
   "source": [
    "from langchain_openai import ChatOpenAI\n",
    "\n",
    "llm = ChatOpenAI(model=\"gpt-4.1-nano\")\n",
    "\n",
    "\n",
    "def llm_node(state: State):\n",
    "    ai_message = llm.invoke(state[\"messages\"])\n",
    "    return {\"messages\": [ai_message]}"
   ]
  },
  {
   "cell_type": "code",
   "execution_count": null,
   "metadata": {
    "execution": {
     "iopub.execute_input": "2025-02-16T03:30:11.651575Z",
     "iopub.status.busy": "2025-02-16T03:30:11.651495Z",
     "iopub.status.idle": "2025-02-16T03:30:11.654310Z",
     "shell.execute_reply": "2025-02-16T03:30:11.654000Z"
    }
   },
   "outputs": [],
   "source": [
    "from langgraph.graph import StateGraph, START, END\n",
    "\n",
    "graph_builder = StateGraph(State)\n",
    "graph_builder.add_node(\"llm_node\", llm_node)\n",
    "\n",
    "graph_builder.add_edge(START, \"llm_node\")\n",
    "graph_builder.add_edge(\"llm_node\", END)\n",
    "\n",
    "graph = graph_builder.compile()"
   ]
  },
  {
   "cell_type": "code",
   "execution_count": null,
   "metadata": {
    "execution": {
     "iopub.execute_input": "2025-02-16T03:30:11.655324Z",
     "iopub.status.busy": "2025-02-16T03:30:11.655233Z",
     "iopub.status.idle": "2025-02-16T03:30:12.727329Z",
     "shell.execute_reply": "2025-02-16T03:30:12.726913Z"
    }
   },
   "outputs": [],
   "source": [
    "from IPython.display import Image, display\n",
    "\n",
    "display(Image(graph.get_graph().draw_mermaid_png()))"
   ]
  },
  {
   "cell_type": "code",
   "execution_count": null,
   "metadata": {
    "execution": {
     "iopub.execute_input": "2025-02-16T03:30:12.728990Z",
     "iopub.status.busy": "2025-02-16T03:30:12.728875Z",
     "iopub.status.idle": "2025-02-16T03:30:12.730622Z",
     "shell.execute_reply": "2025-02-16T03:30:12.730413Z"
    }
   },
   "outputs": [],
   "source": [
    "from langchain_core.messages import HumanMessage\n",
    "\n",
    "initial_state = {\"messages\": HumanMessage(\"こんにちは！\")}"
   ]
  },
  {
   "cell_type": "code",
   "execution_count": null,
   "metadata": {
    "execution": {
     "iopub.execute_input": "2025-02-16T03:30:12.731597Z",
     "iopub.status.busy": "2025-02-16T03:30:12.731528Z",
     "iopub.status.idle": "2025-02-16T03:30:13.522421Z",
     "shell.execute_reply": "2025-02-16T03:30:13.522164Z"
    }
   },
   "outputs": [],
   "source": [
    "graph.invoke(initial_state)"
   ]
  },
  {
   "cell_type": "markdown",
   "metadata": {},
   "source": [
    "## 単純なエージェントの実装\n"
   ]
  },
  {
   "cell_type": "code",
   "execution_count": null,
   "metadata": {
    "execution": {
     "iopub.execute_input": "2025-02-16T03:30:13.584414Z",
     "iopub.status.busy": "2025-02-16T03:30:13.584286Z",
     "iopub.status.idle": "2025-02-16T03:30:13.586146Z",
     "shell.execute_reply": "2025-02-16T03:30:13.585920Z"
    }
   },
   "outputs": [],
   "source": [
    "from typing import Annotated\n",
    "from typing_extensions import TypedDict\n",
    "\n",
    "from langgraph.graph.message import add_messages\n",
    "\n",
    "\n",
    "class State(TypedDict):\n",
    "    messages: Annotated[list[BaseMessage], add_messages]"
   ]
  },
  {
   "cell_type": "code",
   "execution_count": null,
   "metadata": {
    "execution": {
     "iopub.execute_input": "2025-02-16T03:30:13.587091Z",
     "iopub.status.busy": "2025-02-16T03:30:13.587007Z",
     "iopub.status.idle": "2025-02-16T03:30:13.597893Z",
     "shell.execute_reply": "2025-02-16T03:30:13.597624Z"
    }
   },
   "outputs": [],
   "source": [
    "from langchain_openai import ChatOpenAI\n",
    "from langchain_community.tools.tavily_search import TavilySearchResults\n",
    "\n",
    "llm = ChatOpenAI(model=\"gpt-4.1-nano\")\n",
    "tools = [TavilySearchResults()]\n",
    "llm_with_tools = llm.bind_tools(tools)\n",
    "\n",
    "\n",
    "def llm_node(state: State):\n",
    "    ai_message = llm_with_tools.invoke(state[\"messages\"])\n",
    "    return {\"messages\": [ai_message]}"
   ]
  },
  {
   "cell_type": "code",
   "execution_count": null,
   "metadata": {
    "execution": {
     "iopub.execute_input": "2025-02-16T03:30:13.599163Z",
     "iopub.status.busy": "2025-02-16T03:30:13.599064Z",
     "iopub.status.idle": "2025-02-16T03:30:13.601537Z",
     "shell.execute_reply": "2025-02-16T03:30:13.601324Z"
    }
   },
   "outputs": [],
   "source": [
    "import json\n",
    "\n",
    "from langchain_core.messages import ToolMessage\n",
    "from langchain_core.tools import BaseTool\n",
    "\n",
    "\n",
    "class BasicToolNode:\n",
    "    def __init__(self, tools: list[BaseTool]) -> None:\n",
    "        # {\"ツール名\": \"ツール\"} というdictを作成\n",
    "        tools_by_name = {}\n",
    "        for tool in tools:\n",
    "            tools_by_name[tool.name] = tool\n",
    "        self.tools_by_name = tools_by_name\n",
    "\n",
    "    def __call__(self, state: State):\n",
    "        latest_message = state[\"messages\"][-1]\n",
    "\n",
    "        tool_messages = []\n",
    "        for tool_call in latest_message.tool_calls:\n",
    "            tool = self.tools_by_name[tool_call[\"name\"]]\n",
    "            tool_result = tool.invoke(tool_call[\"args\"])\n",
    "            tool_messages.append(\n",
    "                ToolMessage(\n",
    "                    content=json.dumps(tool_result),\n",
    "                    name=tool_call[\"name\"],\n",
    "                    tool_call_id=tool_call[\"id\"],\n",
    "                )\n",
    "            )\n",
    "        return {\"messages\": tool_messages}\n",
    "\n",
    "\n",
    "tool_node = BasicToolNode(tools=tools)"
   ]
  },
  {
   "cell_type": "code",
   "execution_count": null,
   "metadata": {
    "execution": {
     "iopub.execute_input": "2025-02-16T03:30:13.602541Z",
     "iopub.status.busy": "2025-02-16T03:30:13.602478Z",
     "iopub.status.idle": "2025-02-16T03:30:13.605520Z",
     "shell.execute_reply": "2025-02-16T03:30:13.605337Z"
    }
   },
   "outputs": [],
   "source": [
    "from langgraph.graph import StateGraph, START, END\n",
    "\n",
    "\n",
    "graph_builder = StateGraph(State)\n",
    "graph_builder.add_node(\"llm_node\", llm_node)\n",
    "graph_builder.add_node(\"tool_node\", tool_node)\n",
    "\n",
    "\n",
    "def is_last_message_tool_call(state: State):\n",
    "    last_message = state[\"messages\"][-1]\n",
    "    if hasattr(last_message, \"tool_calls\") and len(last_message.tool_calls) > 0:\n",
    "        return True\n",
    "    return False\n",
    "\n",
    "\n",
    "graph_builder.add_edge(START, \"llm_node\")\n",
    "graph_builder.add_conditional_edges(\n",
    "    \"llm_node\",\n",
    "    is_last_message_tool_call,\n",
    "    {\n",
    "        True: \"tool_node\",\n",
    "        False: END,\n",
    "    },\n",
    ")\n",
    "graph_builder.add_edge(\"tool_node\", \"llm_node\")\n",
    "graph = graph_builder.compile()"
   ]
  },
  {
   "cell_type": "code",
   "execution_count": null,
   "metadata": {
    "execution": {
     "iopub.execute_input": "2025-02-16T03:30:13.606825Z",
     "iopub.status.busy": "2025-02-16T03:30:13.606739Z",
     "iopub.status.idle": "2025-02-16T03:30:14.623304Z",
     "shell.execute_reply": "2025-02-16T03:30:14.622938Z"
    }
   },
   "outputs": [],
   "source": [
    "from IPython.display import Image, display\n",
    "\n",
    "display(Image(graph.get_graph().draw_mermaid_png()))"
   ]
  },
  {
   "cell_type": "code",
   "execution_count": null,
   "metadata": {
    "execution": {
     "iopub.execute_input": "2025-02-16T03:30:14.624585Z",
     "iopub.status.busy": "2025-02-16T03:30:14.624487Z",
     "iopub.status.idle": "2025-02-16T03:30:15.350268Z",
     "shell.execute_reply": "2025-02-16T03:30:15.350037Z"
    }
   },
   "outputs": [],
   "source": [
    "from langchain_core.messages import HumanMessage\n",
    "\n",
    "initial_state = {\"messages\": HumanMessage(\"こんにちは！\")}\n",
    "graph.invoke(initial_state)"
   ]
  },
  {
   "cell_type": "code",
   "execution_count": null,
   "metadata": {
    "execution": {
     "iopub.execute_input": "2025-02-16T03:30:15.351379Z",
     "iopub.status.busy": "2025-02-16T03:30:15.351301Z",
     "iopub.status.idle": "2025-02-16T03:30:22.509946Z",
     "shell.execute_reply": "2025-02-16T03:30:22.509668Z"
    }
   },
   "outputs": [],
   "source": [
    "from langchain_core.messages import HumanMessage\n",
    "\n",
    "initial_state = {\"messages\": HumanMessage(\"東京の今日の天気は？\")}\n",
    "graph.invoke(initial_state)"
   ]
  },
  {
   "cell_type": "code",
   "execution_count": null,
   "metadata": {
    "execution": {
     "iopub.execute_input": "2025-02-16T03:30:22.511203Z",
     "iopub.status.busy": "2025-02-16T03:30:22.511101Z",
     "iopub.status.idle": "2025-02-16T03:30:28.092204Z",
     "shell.execute_reply": "2025-02-16T03:30:28.091914Z"
    }
   },
   "outputs": [],
   "source": [
    "from langchain_core.messages import AIMessage, HumanMessage, ToolMessage\n",
    "\n",
    "initial_state = {\"messages\": HumanMessage(\"東京の今日の天気は？\")}\n",
    "\n",
    "for event in graph.stream(initial_state, stream_mode=\"updates\"):\n",
    "    for value in event.values():\n",
    "        latest_message = value[\"messages\"][-1]\n",
    "        if isinstance(latest_message, AIMessage):\n",
    "            if (\n",
    "                hasattr(latest_message, \"tool_calls\")\n",
    "                and len(latest_message.tool_calls) > 0\n",
    "            ):\n",
    "                for tool_call in latest_message.tool_calls:\n",
    "                    print(\n",
    "                        f\"Tool call: name = {tool_call['name']}, args = {tool_call['args']}\"\n",
    "                    )\n",
    "            else:\n",
    "                print(f\"AI: {latest_message.content}\")\n",
    "        elif isinstance(latest_message, ToolMessage):\n",
    "            print(f\"Tool result: {latest_message.content}\")\n",
    "        else:\n",
    "            print(latest_message)\n"
   ]
  },
  {
   "cell_type": "markdown",
   "metadata": {},
   "source": [
    "## Q&A アプリケーション\n"
   ]
  },
  {
   "cell_type": "code",
   "execution_count": null,
   "metadata": {
    "execution": {
     "iopub.execute_input": "2025-02-16T03:30:28.093535Z",
     "iopub.status.busy": "2025-02-16T03:30:28.093441Z",
     "iopub.status.idle": "2025-02-16T03:30:28.095913Z",
     "shell.execute_reply": "2025-02-16T03:30:28.095658Z"
    }
   },
   "outputs": [],
   "source": [
    "ROLES = {\n",
    "    \"1\": {\n",
    "        \"name\": \"一般知識エキスパート\",\n",
    "        \"description\": \"幅広い分野の一般的な質問に答える\",\n",
    "        \"details\": \"幅広い分野の一般的な質問に対して、正確で分かりやすい回答を提供してください。\",\n",
    "    },\n",
    "    \"2\": {\n",
    "        \"name\": \"生成AI製品エキスパート\",\n",
    "        \"description\": \"生成AIや関連製品、技術に関する専門的な質問に答える\",\n",
    "        \"details\": \"生成AIや関連製品、技術に関する専門的な質問に対して、最新の情報と深い洞察を提供してください。\",\n",
    "    },\n",
    "    \"3\": {\n",
    "        \"name\": \"カウンセラー\",\n",
    "        \"description\": \"個人的な悩みや心理的な問題に対してサポートを提供する\",\n",
    "        \"details\": \"個人的な悩みや心理的な問題に対して、共感的で支援的な回答を提供し、可能であれば適切なアドバイスも行ってください。\",\n",
    "    },\n",
    "}"
   ]
  },
  {
   "cell_type": "code",
   "execution_count": null,
   "metadata": {
    "execution": {
     "iopub.execute_input": "2025-02-16T03:30:28.096949Z",
     "iopub.status.busy": "2025-02-16T03:30:28.096876Z",
     "iopub.status.idle": "2025-02-16T03:30:28.098768Z",
     "shell.execute_reply": "2025-02-16T03:30:28.098549Z"
    }
   },
   "outputs": [],
   "source": [
    "import operator\n",
    "from typing import Annotated\n",
    "from typing_extensions import TypedDict\n",
    "\n",
    "\n",
    "class State(TypedDict):\n",
    "    query: str\n",
    "    current_role: str\n",
    "    messages: Annotated[list[str], operator.add]\n",
    "    current_judge: bool\n",
    "    judgement_reason: str"
   ]
  },
  {
   "cell_type": "code",
   "execution_count": null,
   "metadata": {
    "execution": {
     "iopub.execute_input": "2025-02-16T03:30:28.099681Z",
     "iopub.status.busy": "2025-02-16T03:30:28.099620Z",
     "iopub.status.idle": "2025-02-16T03:30:28.120920Z",
     "shell.execute_reply": "2025-02-16T03:30:28.120409Z"
    }
   },
   "outputs": [],
   "source": [
    "from langchain_openai import ChatOpenAI\n",
    "from langchain_core.runnables import ConfigurableField\n",
    "\n",
    "llm = ChatOpenAI(model=\"gpt-4.1\", temperature=0.0)\n",
    "# 後からmax_tokensの値を変更できるように、変更可能なフィールドを宣言\n",
    "llm = llm.configurable_fields(max_tokens=ConfigurableField(id=\"max_tokens\"))"
   ]
  },
  {
   "cell_type": "code",
   "execution_count": null,
   "metadata": {
    "execution": {
     "iopub.execute_input": "2025-02-16T03:30:28.122254Z",
     "iopub.status.busy": "2025-02-16T03:30:28.122163Z",
     "iopub.status.idle": "2025-02-16T03:30:28.124610Z",
     "shell.execute_reply": "2025-02-16T03:30:28.124399Z"
    }
   },
   "outputs": [],
   "source": [
    "from typing import Any\n",
    "\n",
    "from langchain_core.prompts import ChatPromptTemplate\n",
    "from langchain_core.output_parsers import StrOutputParser\n",
    "\n",
    "\n",
    "def selection_node(state: State) -> dict[str, Any]:\n",
    "    query = state[\"query\"]\n",
    "    role_options = \"\\n\".join(\n",
    "        [f\"{k}. {v['name']}: {v['description']}\" for k, v in ROLES.items()]\n",
    "    )\n",
    "    prompt = ChatPromptTemplate.from_template(\n",
    "        \"\"\"質問を分析し、最も適切な回答担当ロールを選択してください。\n",
    "\n",
    "選択肢:\n",
    "{role_options}\n",
    "\n",
    "回答は選択肢の番号（1、2、または3）のみを返してください。\n",
    "\n",
    "質問: {query}\n",
    "\"\"\".strip()\n",
    "    )\n",
    "    # 選択肢の番号のみを返すことを期待したいため、max_tokensの値を1に変更\n",
    "    chain = (\n",
    "        prompt | llm.with_config(configurable=dict(max_tokens=1)) | StrOutputParser()\n",
    "    )\n",
    "    role_number = chain.invoke({\"role_options\": role_options, \"query\": query})\n",
    "\n",
    "    selected_role = ROLES[role_number.strip()][\"name\"]\n",
    "    return {\"current_role\": selected_role}"
   ]
  },
  {
   "cell_type": "code",
   "execution_count": null,
   "metadata": {
    "execution": {
     "iopub.execute_input": "2025-02-16T03:30:28.125545Z",
     "iopub.status.busy": "2025-02-16T03:30:28.125485Z",
     "iopub.status.idle": "2025-02-16T03:30:28.127424Z",
     "shell.execute_reply": "2025-02-16T03:30:28.127238Z"
    }
   },
   "outputs": [],
   "source": [
    "def answering_node(state: State) -> dict[str, Any]:\n",
    "    query = state[\"query\"]\n",
    "    role_name = state[\"current_role\"]\n",
    "    role = next(filter(lambda x: x[\"name\"] == role_name, ROLES.values()))\n",
    "    role_detail = role[\"details\"]\n",
    "    prompt = ChatPromptTemplate.from_template(\n",
    "        \"\"\"あなたは{role_name}として回答してください。以下の質問に対して、あなたの役割に基づいた適切な回答を提供してください。\n",
    "\n",
    "役割の詳細:\n",
    "{role_detail}\n",
    "\n",
    "質問: {query}\n",
    "\n",
    "回答:\"\"\".strip()\n",
    "    )\n",
    "    chain = prompt | llm | StrOutputParser()\n",
    "    answer = chain.invoke(\n",
    "        {\"role_name\": role_name, \"role_detail\": role_detail, \"query\": query}\n",
    "    )\n",
    "    return {\"messages\": [answer]}"
   ]
  },
  {
   "cell_type": "code",
   "execution_count": null,
   "metadata": {
    "execution": {
     "iopub.execute_input": "2025-02-16T03:30:28.128373Z",
     "iopub.status.busy": "2025-02-16T03:30:28.128296Z",
     "iopub.status.idle": "2025-02-16T03:30:28.130753Z",
     "shell.execute_reply": "2025-02-16T03:30:28.130548Z"
    }
   },
   "outputs": [],
   "source": [
    "from pydantic import BaseModel, Field\n",
    "\n",
    "\n",
    "class Judgement(BaseModel):\n",
    "    reason: str = Field(description=\"判定理由\")\n",
    "    judge: bool = Field(description=\"判定結果\")\n",
    "\n",
    "\n",
    "def check_node(state: State) -> dict[str, Any]:\n",
    "    query = state[\"query\"]\n",
    "    answer = state[\"messages\"][-1]\n",
    "    prompt = ChatPromptTemplate.from_template(\n",
    "        \"\"\"以下の回答の品質をチェックし、問題がある場合は'False'、問題がない場合は'True'を回答してください。\n",
    "また、その判断理由も説明してください。\n",
    "\n",
    "ユーザーからの質問: {query}\n",
    "回答: {answer}\n",
    "\"\"\".strip()\n",
    "    )\n",
    "    chain = prompt | llm.with_structured_output(Judgement)\n",
    "    result: Judgement = chain.invoke({\"query\": query, \"answer\": answer})\n",
    "\n",
    "    return {\"current_judge\": result.judge, \"judgement_reason\": result.reason}"
   ]
  },
  {
   "cell_type": "code",
   "execution_count": null,
   "metadata": {
    "execution": {
     "iopub.execute_input": "2025-02-16T03:30:28.131913Z",
     "iopub.status.busy": "2025-02-16T03:30:28.131846Z",
     "iopub.status.idle": "2025-02-16T03:30:28.134394Z",
     "shell.execute_reply": "2025-02-16T03:30:28.134131Z"
    }
   },
   "outputs": [],
   "source": [
    "from langgraph.graph import StateGraph\n",
    "\n",
    "workflow = StateGraph(State)"
   ]
  },
  {
   "cell_type": "code",
   "execution_count": null,
   "metadata": {
    "execution": {
     "iopub.execute_input": "2025-02-16T03:30:28.135349Z",
     "iopub.status.busy": "2025-02-16T03:30:28.135276Z",
     "iopub.status.idle": "2025-02-16T03:30:28.137418Z",
     "shell.execute_reply": "2025-02-16T03:30:28.137206Z"
    }
   },
   "outputs": [],
   "source": [
    "workflow.add_node(\"selection\", selection_node)\n",
    "workflow.add_node(\"answering\", answering_node)\n",
    "workflow.add_node(\"check\", check_node)"
   ]
  },
  {
   "cell_type": "code",
   "execution_count": null,
   "metadata": {
    "execution": {
     "iopub.execute_input": "2025-02-16T03:30:28.138393Z",
     "iopub.status.busy": "2025-02-16T03:30:28.138328Z",
     "iopub.status.idle": "2025-02-16T03:30:28.140064Z",
     "shell.execute_reply": "2025-02-16T03:30:28.139842Z"
    }
   },
   "outputs": [],
   "source": [
    "# selectionノードから処理を開始\n",
    "workflow.set_entry_point(\"selection\")"
   ]
  },
  {
   "cell_type": "code",
   "execution_count": null,
   "metadata": {
    "execution": {
     "iopub.execute_input": "2025-02-16T03:30:28.140990Z",
     "iopub.status.busy": "2025-02-16T03:30:28.140925Z",
     "iopub.status.idle": "2025-02-16T03:30:28.143616Z",
     "shell.execute_reply": "2025-02-16T03:30:28.143106Z"
    }
   },
   "outputs": [],
   "source": [
    "# selectionノードからansweringノードへ\n",
    "workflow.add_edge(\"selection\", \"answering\")\n",
    "# answeringノードからcheckノードへ\n",
    "workflow.add_edge(\"answering\", \"check\")"
   ]
  },
  {
   "cell_type": "code",
   "execution_count": null,
   "metadata": {
    "execution": {
     "iopub.execute_input": "2025-02-16T03:30:28.144683Z",
     "iopub.status.busy": "2025-02-16T03:30:28.144608Z",
     "iopub.status.idle": "2025-02-16T03:30:28.146867Z",
     "shell.execute_reply": "2025-02-16T03:30:28.146657Z"
    }
   },
   "outputs": [],
   "source": [
    "from langgraph.graph import END\n",
    "\n",
    "# checkノードから次のノードへの遷移に条件付きエッジを定義\n",
    "# state.current_judgeの値がTrueならENDノードへ、Falseならselectionノードへ\n",
    "workflow.add_conditional_edges(\n",
    "    \"check\", lambda state: state[\"current_judge\"], {True: END, False: \"selection\"}\n",
    ")"
   ]
  },
  {
   "cell_type": "code",
   "execution_count": null,
   "metadata": {
    "execution": {
     "iopub.execute_input": "2025-02-16T03:30:28.148246Z",
     "iopub.status.busy": "2025-02-16T03:30:28.148161Z",
     "iopub.status.idle": "2025-02-16T03:30:28.151057Z",
     "shell.execute_reply": "2025-02-16T03:30:28.150845Z"
    }
   },
   "outputs": [],
   "source": [
    "graph = workflow.compile()"
   ]
  },
  {
   "cell_type": "code",
   "execution_count": null,
   "metadata": {
    "execution": {
     "iopub.execute_input": "2025-02-16T03:30:36.189359Z",
     "iopub.status.busy": "2025-02-16T03:30:36.189266Z",
     "iopub.status.idle": "2025-02-16T03:30:36.219672Z",
     "shell.execute_reply": "2025-02-16T03:30:36.219322Z"
    }
   },
   "outputs": [],
   "source": [
    "from IPython.display import Image, display\n",
    "\n",
    "display(Image(graph.get_graph().draw_mermaid_png()))"
   ]
  },
  {
   "cell_type": "code",
   "execution_count": null,
   "metadata": {
    "execution": {
     "iopub.execute_input": "2025-02-16T03:30:28.152013Z",
     "iopub.status.busy": "2025-02-16T03:30:28.151946Z",
     "iopub.status.idle": "2025-02-16T03:30:36.183922Z",
     "shell.execute_reply": "2025-02-16T03:30:36.183625Z"
    }
   },
   "outputs": [],
   "source": [
    "initial_state = {\n",
    "    \"query\": \"生成AIについて教えてください\",\n",
    "    \"current_role\": \"\",\n",
    "    \"messages\": [],\n",
    "    \"current_judge\": False,\n",
    "    \"judgement_reason\": \"\",\n",
    "}\n",
    "graph.invoke(initial_state)"
   ]
  },
  {
   "cell_type": "code",
   "execution_count": null,
   "metadata": {},
   "outputs": [],
   "source": []
  }
 ],
 "metadata": {
  "kernelspec": {
   "display_name": ".venv",
   "language": "python",
   "name": "python3"
  },
  "language_info": {
   "codemirror_mode": {
    "name": "ipython",
    "version": 3
   },
   "file_extension": ".py",
   "mimetype": "text/x-python",
   "name": "python",
   "nbconvert_exporter": "python",
   "pygments_lexer": "ipython3",
   "version": "3.10.12"
  }
 },
 "nbformat": 4,
 "nbformat_minor": 2
}
